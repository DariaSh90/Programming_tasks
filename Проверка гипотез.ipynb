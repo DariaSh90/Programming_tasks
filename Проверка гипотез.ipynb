{
 "cells": [
  {
   "cell_type": "code",
   "execution_count": 11,
   "metadata": {
    "scrolled": false,
    "slideshow": {
     "slide_type": "slide"
    }
   },
   "outputs": [
    {
     "name": "stdout",
     "output_type": "stream",
     "text": [
      "Populating the interactive namespace from numpy and matplotlib\n"
     ]
    }
   ],
   "source": [
    "# Импорт необходимых библиотек\n",
    "import pandas as pd\n",
    "import numpy as np\n",
    "from scipy import stats\n",
    "from sklearn.model_selection import train_test_split\n",
    "from sklearn.linear_model import LinearRegression\n",
    "from sklearn.ensemble import RandomForestRegressor\n",
    "from sklearn import metrics\n",
    "from statsmodels.stats.weightstats import *\n",
    "import matplotlib.pyplot as plt\n",
    "\n",
    "%pylab inline"
   ]
  },
  {
   "cell_type": "markdown",
   "metadata": {},
   "source": [
    "__Задание:__\n",
    "\n",
    "Имеются данные о стоимости и размерах 53940 бриллиантов:\n",
    "\n",
    "Отделите 25% случайных наблюдений в тестовую выборку с помощью функции sklearn.cross_validation.train_test_split (random state = 1). На обучающей выборке настройте две регрессионные модели:\n",
    "\n",
    "1) линейную регрессию с помощью LinearRegression без параметров\n",
    "\n",
    "2) случайный лес с помощью RandomForestRegressor с random_state=1.\n",
    "\n",
    "Какая из моделей лучше предсказывает цену бриллиантов? Сделайте предсказания на тестовой выборке, посчитайте модули отклонений предсказаний от истинных цен. Проверьте гипотезу об одинаковом среднем качестве предсказаний, вычислите достигаемый уровень значимости. Отвергается ли гипотеза об одинаковом качестве моделей против двусторонней альтернативы на уровне значимости α=0.05?\n",
    "\n",
    "Посчитайте 95% доверительный интервал для разности средних абсолютных ошибок предсказаний регрессии и случайного леса."
   ]
  },
  {
   "cell_type": "code",
   "execution_count": 12,
   "metadata": {
    "scrolled": true
   },
   "outputs": [
    {
     "data": {
      "text/html": [
       "<div>\n",
       "<style scoped>\n",
       "    .dataframe tbody tr th:only-of-type {\n",
       "        vertical-align: middle;\n",
       "    }\n",
       "\n",
       "    .dataframe tbody tr th {\n",
       "        vertical-align: top;\n",
       "    }\n",
       "\n",
       "    .dataframe thead th {\n",
       "        text-align: right;\n",
       "    }\n",
       "</style>\n",
       "<table border=\"1\" class=\"dataframe\">\n",
       "  <thead>\n",
       "    <tr style=\"text-align: right;\">\n",
       "      <th></th>\n",
       "      <th>carat</th>\n",
       "      <th>depth</th>\n",
       "      <th>table</th>\n",
       "      <th>price</th>\n",
       "      <th>x</th>\n",
       "      <th>y</th>\n",
       "      <th>z</th>\n",
       "    </tr>\n",
       "  </thead>\n",
       "  <tbody>\n",
       "    <tr>\n",
       "      <th>0</th>\n",
       "      <td>0.23</td>\n",
       "      <td>61.5</td>\n",
       "      <td>55.0</td>\n",
       "      <td>326</td>\n",
       "      <td>3.95</td>\n",
       "      <td>3.98</td>\n",
       "      <td>2.43</td>\n",
       "    </tr>\n",
       "    <tr>\n",
       "      <th>1</th>\n",
       "      <td>0.21</td>\n",
       "      <td>59.8</td>\n",
       "      <td>61.0</td>\n",
       "      <td>326</td>\n",
       "      <td>3.89</td>\n",
       "      <td>3.84</td>\n",
       "      <td>2.31</td>\n",
       "    </tr>\n",
       "    <tr>\n",
       "      <th>2</th>\n",
       "      <td>0.23</td>\n",
       "      <td>56.9</td>\n",
       "      <td>65.0</td>\n",
       "      <td>327</td>\n",
       "      <td>4.05</td>\n",
       "      <td>4.07</td>\n",
       "      <td>2.31</td>\n",
       "    </tr>\n",
       "    <tr>\n",
       "      <th>3</th>\n",
       "      <td>0.29</td>\n",
       "      <td>62.4</td>\n",
       "      <td>58.0</td>\n",
       "      <td>334</td>\n",
       "      <td>4.20</td>\n",
       "      <td>4.23</td>\n",
       "      <td>2.63</td>\n",
       "    </tr>\n",
       "    <tr>\n",
       "      <th>4</th>\n",
       "      <td>0.31</td>\n",
       "      <td>63.3</td>\n",
       "      <td>58.0</td>\n",
       "      <td>335</td>\n",
       "      <td>4.34</td>\n",
       "      <td>4.35</td>\n",
       "      <td>2.75</td>\n",
       "    </tr>\n",
       "  </tbody>\n",
       "</table>\n",
       "</div>"
      ],
      "text/plain": [
       "   carat  depth  table  price     x     y     z\n",
       "0   0.23   61.5   55.0    326  3.95  3.98  2.43\n",
       "1   0.21   59.8   61.0    326  3.89  3.84  2.31\n",
       "2   0.23   56.9   65.0    327  4.05  4.07  2.31\n",
       "3   0.29   62.4   58.0    334  4.20  4.23  2.63\n",
       "4   0.31   63.3   58.0    335  4.34  4.35  2.75"
      ]
     },
     "execution_count": 12,
     "metadata": {},
     "output_type": "execute_result"
    }
   ],
   "source": [
    "# Импортируем данные из файла\n",
    "data=pd.read_csv('diamonds.txt', delimiter='\\t')\n",
    "data.head()"
   ]
  },
  {
   "cell_type": "code",
   "execution_count": 13,
   "metadata": {
    "scrolled": true
   },
   "outputs": [
    {
     "name": "stdout",
     "output_type": "stream",
     "text": [
      "Средняя абсолютная ошибка модели LR: 890.376400429; \n",
      "Средняя абсолютная ошибка модели RF: 802.920517272; \n",
      "\n",
      "95% доверительный интервал: [74.287245, 100.624521]\n"
     ]
    },
    {
     "data": {
      "text/plain": [
       "Ttest_relResult(statistic=13.017729783878472, pvalue=1.6551745751432446e-38)"
      ]
     },
     "execution_count": 13,
     "metadata": {},
     "output_type": "execute_result"
    }
   ],
   "source": [
    "# Разделим данные на целевую переменную и признаки для обучения\n",
    "Price=np.ravel(data.price)\n",
    "Features = data.drop('price', axis=1)\n",
    "\n",
    "# Разделим выборку на тестовую (25%) и на выборку для обучения\n",
    "train_data, test_data, train_labels, test_labels = train_test_split(Features, Price, test_size=0.25, random_state=1)\n",
    "\n",
    "# Далее обучим две регрессионные модели\n",
    "LR=LinearRegression()\n",
    "LR.fit(train_data, train_labels)\n",
    "\n",
    "RF=RandomForestRegressor(random_state=1)\n",
    "RF.fit(train_data, train_labels)\n",
    "\n",
    "# Сделаем предсказания и посчитаем абсолютные отклонения предсказаний от истинных цен.\n",
    "\n",
    "LR_errors=abs(test_labels - LR.predict(test_data))\n",
    "RF_errors=abs(test_labels - RF.predict(test_data))\n",
    "\n",
    "print ('Средняя абсолютная ошибка модели LR: {}; \\n'\n",
    "        'Средняя абсолютная ошибка модели RF: {}; \\n'.format(mean(LR_errors), mean(RF_errors)))\n",
    "\n",
    "print '95%% доверительный интервал: [%f, %f]' % DescrStatsW(LR_errors-RF_errors).tconfint_mean()\n",
    "\n",
    "# Для проверки нулевой гипотезы применим двухвыборочный критерий Стьюдента для зависимых выборок. \n",
    "stats.ttest_rel(LR_errors, RF_errors)\n"
   ]
  },
  {
   "cell_type": "markdown",
   "metadata": {},
   "source": [
    "__Вывод:__ *Достигаемый уровень значимости получился гораздо меньше 0.05, поэтому мы можем отвергнуть нулевую гипотезу об одинаковом среднем качестве предсказаний моделей.\n",
    "Согласно доверительному интервалу случайный лес предсказывает цены бриллиантов в среднем на 74-100 долларов точнее.*"
   ]
  },
  {
   "cell_type": "markdown",
   "metadata": {},
   "source": [
    "__Задание:__\n",
    "\n",
    "По данным опроса, 75% работников ресторанов утверждают, что испытывают на работе существенный стресс, оказывающий негативное влияние на их личную жизнь. Крупная ресторанная сеть опрашивает 100 своих работников, чтобы выяснить, отличается ли уровень стресса работников в их ресторанах от среднего. 67 из 100 работников отметили высокий уровень стресса.\n",
    "\n",
    "Посчитайте достигаемый уровень значимости, округлите ответ до четырёх знаков после десятичной точки."
   ]
  },
  {
   "cell_type": "code",
   "execution_count": 14,
   "metadata": {
    "scrolled": true
   },
   "outputs": [
    {
     "name": "stdout",
     "output_type": "stream",
     "text": [
      "Достигаемый уровень значимости: 0.0822\n"
     ]
    }
   ],
   "source": [
    "# В данном случае нулевое распределение статистики - это биномиальное распределение Bin(n,p), где n - это количество\n",
    "# работников, а p - вероятность того, что работник ресторана испытывает на работе существенный стресс.\n",
    "# Чтобы понять отличается ли уровень стресса работников в конкретной ресторанной сети от данных опроса,\n",
    "# проверим нулевую гипотезу с помощью биномиального теста с двустронней альтернативой.\n",
    "# H0: Уровень стресса работников в конкретной ресторанной сети соотвествует данным опроса (не отличается от среднего).\n",
    "\n",
    "\n",
    "p=stats.binom_test(67, 100, 0.75, alternative = 'two-sided')\n",
    "print 'Достигаемый уровень значимости: %.4f' %p"
   ]
  },
  {
   "cell_type": "markdown",
   "metadata": {},
   "source": [
    "__Вывод:__ *С учетом полученного результата, на уровне значимости 0.05 мы не можем отвергнуть нулевую гипотезу. Следовательно у нас нет достаточных оснований отрицать, что уровень стресса работников рассматриваемой ресторанной сети не отличается от среднего.*"
   ]
  },
  {
   "cell_type": "markdown",
   "metadata": {},
   "source": [
    "__Задание:__\n",
    "\n",
    "The Wage Tract — заповедник в округе Тома, Джорджия, США, деревья в котором не затронуты деятельностью человека со времён первых поселенцев. Для участка заповедника размером 200х200 м имеется информация о координатах сосен (sn — координата в направлении север-юг, we — в направлении запад-восток, обе от 0 до 200).\n",
    "\n",
    "Проверим, можно ли пространственное распределение сосен считать равномерным, или они растут кластерами.\n",
    "\n",
    "Загрузите данные, поделите участок на 5х5 одинаковых квадратов размера 40x40 м, посчитайте количество сосен в каждом квадрате (чтобы получить такой же результат, как у нас, используйте функцию scipy.stats.binned_statistic_2d).\n",
    "\n",
    "Если сосны действительно растут равномерно, какое среднее ожидаемое количество сосен в каждом квадрате?\n",
    "\n",
    "Чтобы сравнить распределение сосен с равномерным, посчитайте значение статистики хи-квадрат для полученных 5х5 квадратов.\n"
   ]
  },
  {
   "cell_type": "code",
   "execution_count": 15,
   "metadata": {
    "scrolled": true
   },
   "outputs": [
    {
     "data": {
      "text/html": [
       "<div>\n",
       "<style scoped>\n",
       "    .dataframe tbody tr th:only-of-type {\n",
       "        vertical-align: middle;\n",
       "    }\n",
       "\n",
       "    .dataframe tbody tr th {\n",
       "        vertical-align: top;\n",
       "    }\n",
       "\n",
       "    .dataframe thead th {\n",
       "        text-align: right;\n",
       "    }\n",
       "</style>\n",
       "<table border=\"1\" class=\"dataframe\">\n",
       "  <thead>\n",
       "    <tr style=\"text-align: right;\">\n",
       "      <th></th>\n",
       "      <th>sn</th>\n",
       "      <th>we</th>\n",
       "    </tr>\n",
       "  </thead>\n",
       "  <tbody>\n",
       "    <tr>\n",
       "      <th>0</th>\n",
       "      <td>200.0</td>\n",
       "      <td>8.8</td>\n",
       "    </tr>\n",
       "    <tr>\n",
       "      <th>1</th>\n",
       "      <td>199.3</td>\n",
       "      <td>10.0</td>\n",
       "    </tr>\n",
       "    <tr>\n",
       "      <th>2</th>\n",
       "      <td>193.6</td>\n",
       "      <td>22.4</td>\n",
       "    </tr>\n",
       "    <tr>\n",
       "      <th>3</th>\n",
       "      <td>167.7</td>\n",
       "      <td>35.6</td>\n",
       "    </tr>\n",
       "    <tr>\n",
       "      <th>4</th>\n",
       "      <td>183.9</td>\n",
       "      <td>45.4</td>\n",
       "    </tr>\n",
       "  </tbody>\n",
       "</table>\n",
       "</div>"
      ],
      "text/plain": [
       "      sn    we\n",
       "0  200.0   8.8\n",
       "1  199.3  10.0\n",
       "2  193.6  22.4\n",
       "3  167.7  35.6\n",
       "4  183.9  45.4"
      ]
     },
     "execution_count": 15,
     "metadata": {},
     "output_type": "execute_result"
    }
   ],
   "source": [
    "# Загрузим данные\n",
    "data=pd.read_csv('pines.txt', delimiter = '\\t')\n",
    "data.head()"
   ]
  },
  {
   "cell_type": "code",
   "execution_count": 16,
   "metadata": {
    "scrolled": true
   },
   "outputs": [
    {
     "name": "stdout",
     "output_type": "stream",
     "text": [
      "[[18. 26. 29. 25. 20.]\n",
      " [14. 12. 22. 34. 25.]\n",
      " [12. 24. 15. 50. 37.]\n",
      " [ 8. 19. 31. 50.  7.]\n",
      " [ 7.  8. 37. 27. 27.]]\n"
     ]
    }
   ],
   "source": [
    "# Далее поделим участок на квадраты размерами 40 на 40 и посчитаем количество сосен в каждом.\n",
    "result = stats.binned_statistic_2d(data.sn, data.we, None, 'count', bins=5)\n",
    "print result.statistic"
   ]
  },
  {
   "cell_type": "markdown",
   "metadata": {},
   "source": [
    "*Получилось 25 квадратов и видно, что количество деревьев сильно варьируется.*"
   ]
  },
  {
   "cell_type": "code",
   "execution_count": 17,
   "metadata": {},
   "outputs": [
    {
     "name": "stdout",
     "output_type": "stream",
     "text": [
      "[18.0, 26.0, 29.0, 25.0, 20.0, 14.0, 12.0, 22.0, 34.0, 25.0, 12.0, 24.0, 15.0, 50.0, 37.0, 8.0, 19.0, 31.0, 50.0, 7.0, 7.0, 8.0, 37.0, 27.0, 27.0]\n"
     ]
    }
   ],
   "source": [
    "# Преобразуем полученные данные в список.\n",
    "observed=result.statistic.reshape(1,25)[0].tolist()\n",
    "print observed"
   ]
  },
  {
   "cell_type": "code",
   "execution_count": 18,
   "metadata": {
    "scrolled": true
   },
   "outputs": [
    {
     "name": "stdout",
     "output_type": "stream",
     "text": [
      "[23.36, 23.36, 23.36, 23.36, 23.36, 23.36, 23.36, 23.36, 23.36, 23.36, 23.36, 23.36, 23.36, 23.36, 23.36, 23.36, 23.36, 23.36, 23.36, 23.36, 23.36, 23.36, 23.36, 23.36, 23.36]\n"
     ]
    }
   ],
   "source": [
    "# Посчитаем среднее ожидаемое количество сосен в каждом квадрате при условии, что сосны распределены равномерно. \n",
    "# И составим список квадратов со средним ожидаемым количеством сосен.\n",
    "exp_num = float(len(data))/len(observed)\n",
    "expected=np.full(len(observed),exp_num).tolist()\n",
    "print expected"
   ]
  },
  {
   "cell_type": "code",
   "execution_count": 19,
   "metadata": {
    "scrolled": true
   },
   "outputs": [
    {
     "data": {
      "text/plain": [
       "Power_divergenceResult(statistic=150.58904109589042, pvalue=2.574669774967279e-20)"
      ]
     },
     "execution_count": 19,
     "metadata": {},
     "output_type": "execute_result"
    }
   ],
   "source": [
    "# Для проверки соответствует ли наблюдаемое распределение сосен равномерному, воспользуемся критерием согласия Пирсона.\n",
    "# H0: рассматриваемая величина имеет равномерное распределение.\n",
    "stats.chisquare(observed, expected, ddof = 0)"
   ]
  },
  {
   "cell_type": "markdown",
   "metadata": {},
   "source": [
    "*__Вывод:__ Значение p-value мало (значительно меньше уровня значимости 0.05) и мы можем отвергнуть нулевую гипотезу, и сосны распределены в заповеднике неравномерно.*"
   ]
  },
  {
   "cell_type": "code",
   "execution_count": 20,
   "metadata": {
    "scrolled": true
   },
   "outputs": [
    {
     "data": {
      "image/png": "[encoded data removed]",
      "text/plain": [
       "<Figure size 432x288 with 1 Axes>"
      ]
     },
     "metadata": {
      "needs_background": "light"
     },
     "output_type": "display_data"
    }
   ],
   "source": [
    "# Посмотрим какие получились границы квадратов при применении stats.binned_statistic_2d \n",
    "# и отобразим их и деревья на графике.\n",
    "\n",
    "plt.scatter(data['sn'], data['we'], c='green')\n",
    "plt.xlabel(u'Север-Юг')\n",
    "plt.ylabel(u'Запад-Восток')\n",
    "\n",
    "for i in range(1,len(result.x_edge)-1):\n",
    "    plt.axvline(result.x_edge[i], color='r')\n",
    "    plt.axhline(result.y_edge[i], color='b')\n",
    "plt.show()"
   ]
  }
 ],
 "metadata": {
  "kernelspec": {
   "display_name": "Python 2",
   "language": "python",
   "name": "python2"
  },
  "language_info": {
   "codemirror_mode": {
    "name": "ipython",
    "version": 2
   },
   "file_extension": ".py",
   "mimetype": "text/x-python",
   "name": "python",
   "nbconvert_exporter": "python",
   "pygments_lexer": "ipython2",
   "version": "2.7.15"
  }
 },
 "nbformat": 4,
 "nbformat_minor": 2
}
