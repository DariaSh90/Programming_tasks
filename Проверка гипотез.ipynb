{
 "cells": [
  {
   "cell_type": "markdown",
   "metadata": {},
   "source": [
    "__Задание:__\n",
    "\n",
    "По данным опроса, 75% работников ресторанов утверждают, что испытывают на работе существенный стресс, оказывающий негативное влияние на их личную жизнь. Крупная ресторанная сеть опрашивает 100 своих работников, чтобы выяснить, отличается ли уровень стресса работников в их ресторанах от среднего. 67 из 100 работников отметили высокий уровень стресса.\n",
    "\n",
    "Посчитайте достигаемый уровень значимости, округлите ответ до четырёх знаков после десятичной точки."
   ]
  },
  {
   "cell_type": "markdown",
   "metadata": {},
   "source": [
    "*Решение:*\n",
    "\n",
    "*В данном случае мы имеем дело с биномиальным распределением Bin(n,p), где n - это количество работников, а p - вероятность того, что работник ресторана испытывает на работе существенный стресс.  \n",
    "Для того чтобы понять отличается ли уровень стресса работников в конкретной ресторанной сети от данных опроса, проверим нулевую гипотезу с помощью биномиального теста с двустронней альтернативой.  \n",
    "H0: Уровень стресса работников в конкретной ресторанной сети соотвествует данным опроса (не отличается от среднего).*"
   ]
  },
  {
   "cell_type": "code",
   "execution_count": 2,
   "metadata": {},
   "outputs": [
    {
     "name": "stdout",
     "output_type": "stream",
     "text": [
      "Достигаемый уровень значимости: 0.0822\n"
     ]
    }
   ],
   "source": [
    "from scipy import stats\n",
    "p=stats.binom_test(67, 100, 0.75, alternative = \"two-sided\")\n",
    "print \"Достигаемый уровень значимости: %.4f\" %p"
   ]
  },
  {
   "cell_type": "markdown",
   "metadata": {},
   "source": [
    "*С учетом полученного результата, на уровне значимости 0.05 мы не можем отвергнуть нулевую гипотезу. Следовательно у нас нет достаточных оснований отрицать, что уровень стресса работников рассматриваемой ресторанной сети не отличается от среднего.*"
   ]
  },
  {
   "cell_type": "markdown",
   "metadata": {},
   "source": [
    "__Задание:__\n",
    "\n",
    "The Wage Tract — заповедник в округе Тома, Джорджия, США, деревья в котором не затронуты деятельностью человека со времён первых поселенцев. Для участка заповедника размером 200х200 м имеется информация о координатах сосен (sn — координата в направлении север-юг, we — в направлении запад-восток, обе от 0 до 200)."
   ]
  },
  {
   "cell_type": "markdown",
   "metadata": {},
   "source": [
    "Проверим, можно ли пространственное распределение сосен считать равномерным, или они растут кластерами.\n",
    "\n",
    "Загрузите данные, поделите участок на 5х5 одинаковых квадратов размера 40x40 м, посчитайте количество сосен в каждом квадрате (чтобы получить такой же результат, как у нас, используйте функцию scipy.stats.binned_statistic_2d).\n",
    "\n",
    "Если сосны действительно растут равномерно, какое среднее ожидаемое количество сосен в каждом квадрате? В правильном ответе два знака после десятичной точки."
   ]
  },
  {
   "cell_type": "markdown",
   "metadata": {},
   "source": [
    "Чтобы сравнить распределение сосен с равномерным, посчитайте значение статистики хи-квадрат для полученных 5х5 квадратов. Округлите ответ до двух знаков после десятичной точки."
   ]
  },
  {
   "cell_type": "markdown",
   "metadata": {},
   "source": [
    "*Решение:*\n",
    "\n",
    "*Откроем файл на чтение, преобразовав в таблицу, и посмотрим первые 5 строк.*"
   ]
  },
  {
   "cell_type": "code",
   "execution_count": 6,
   "metadata": {},
   "outputs": [
    {
     "data": {
      "text/html": [
       "<div>\n",
       "<style scoped>\n",
       "    .dataframe tbody tr th:only-of-type {\n",
       "        vertical-align: middle;\n",
       "    }\n",
       "\n",
       "    .dataframe tbody tr th {\n",
       "        vertical-align: top;\n",
       "    }\n",
       "\n",
       "    .dataframe thead th {\n",
       "        text-align: right;\n",
       "    }\n",
       "</style>\n",
       "<table border=\"1\" class=\"dataframe\">\n",
       "  <thead>\n",
       "    <tr style=\"text-align: right;\">\n",
       "      <th></th>\n",
       "      <th>sn</th>\n",
       "      <th>we</th>\n",
       "    </tr>\n",
       "  </thead>\n",
       "  <tbody>\n",
       "    <tr>\n",
       "      <th>0</th>\n",
       "      <td>200.0</td>\n",
       "      <td>8.8</td>\n",
       "    </tr>\n",
       "    <tr>\n",
       "      <th>1</th>\n",
       "      <td>199.3</td>\n",
       "      <td>10.0</td>\n",
       "    </tr>\n",
       "    <tr>\n",
       "      <th>2</th>\n",
       "      <td>193.6</td>\n",
       "      <td>22.4</td>\n",
       "    </tr>\n",
       "    <tr>\n",
       "      <th>3</th>\n",
       "      <td>167.7</td>\n",
       "      <td>35.6</td>\n",
       "    </tr>\n",
       "    <tr>\n",
       "      <th>4</th>\n",
       "      <td>183.9</td>\n",
       "      <td>45.4</td>\n",
       "    </tr>\n",
       "  </tbody>\n",
       "</table>\n",
       "</div>"
      ],
      "text/plain": [
       "      sn    we\n",
       "0  200.0   8.8\n",
       "1  199.3  10.0\n",
       "2  193.6  22.4\n",
       "3  167.7  35.6\n",
       "4  183.9  45.4"
      ]
     },
     "execution_count": 6,
     "metadata": {},
     "output_type": "execute_result"
    }
   ],
   "source": [
    "import pandas as pd\n",
    "data=pd.read_csv(\"pines.txt\", delimiter = \"\\t\")\n",
    "data.head()"
   ]
  },
  {
   "cell_type": "markdown",
   "metadata": {},
   "source": [
    "*Далее поделим участок на квадраты размерами 40 на 40 и посчитаем количество сосен в каждом.*"
   ]
  },
  {
   "cell_type": "code",
   "execution_count": 8,
   "metadata": {},
   "outputs": [
    {
     "name": "stdout",
     "output_type": "stream",
     "text": [
      "[[18. 26. 29. 25. 20.]\n",
      " [14. 12. 22. 34. 25.]\n",
      " [12. 24. 15. 50. 37.]\n",
      " [ 8. 19. 31. 50.  7.]\n",
      " [ 7.  8. 37. 27. 27.]]\n"
     ]
    }
   ],
   "source": [
    "result = stats.binned_statistic_2d(data['sn'], data['we'], None, 'count', bins=5)\n",
    "print result.statistic"
   ]
  },
  {
   "cell_type": "markdown",
   "metadata": {},
   "source": [
    "*Получилось 25 квадратов и количество деревьев сильно варьируется.*\n",
    "*Преобразуем полученные данные в список.*"
   ]
  },
  {
   "cell_type": "code",
   "execution_count": 9,
   "metadata": {},
   "outputs": [
    {
     "name": "stdout",
     "output_type": "stream",
     "text": [
      "[18.0, 26.0, 29.0, 25.0, 20.0, 14.0, 12.0, 22.0, 34.0, 25.0, 12.0, 24.0, 15.0, 50.0, 37.0, 8.0, 19.0, 31.0, 50.0, 7.0, 7.0, 8.0, 37.0, 27.0, 27.0]\n"
     ]
    }
   ],
   "source": [
    "observed=[]\n",
    "for i in range(len(result.statistic)):\n",
    "    for j in range(len(result.statistic[i])):\n",
    "        observed.append(result.statistic[i][j])\n",
    "print observed    "
   ]
  },
  {
   "cell_type": "markdown",
   "metadata": {},
   "source": [
    "*Отобразим распределение сосен по квадратам при помощи гистограммы.*"
   ]
  },
  {
   "cell_type": "code",
   "execution_count": 18,
   "metadata": {},
   "outputs": [
    {
     "name": "stdout",
     "output_type": "stream",
     "text": [
      "Populating the interactive namespace from numpy and matplotlib\n"
     ]
    },
    {
     "data": {
      "text/plain": [
       "<BarContainer object of 25 artists>"
      ]
     },
     "execution_count": 18,
     "metadata": {},
     "output_type": "execute_result"
    },
    {
     "data": {
      "image/png": "[encoded data removed]",
      "text/plain": [
       "<Figure size 432x288 with 1 Axes>"
      ]
     },
     "metadata": {
      "needs_background": "light"
     },
     "output_type": "display_data"
    }
   ],
   "source": [
    "%pylab inline\n",
    "pylab.bar(range(25), observed)"
   ]
  },
  {
   "cell_type": "markdown",
   "metadata": {},
   "source": [
    "*Посчитаем среднее ожидаемое количество сосен в каждом квадрате при условии, что сосны распределены равномерно. И составим список квадратов со средним ожидаемым количеством сосен.*"
   ]
  },
  {
   "cell_type": "code",
   "execution_count": 14,
   "metadata": {},
   "outputs": [
    {
     "name": "stdout",
     "output_type": "stream",
     "text": [
      "23.36\n"
     ]
    }
   ],
   "source": [
    "exp_num = float(len(data))/len(observed)\n",
    "print exp_num"
   ]
  },
  {
   "cell_type": "code",
   "execution_count": 15,
   "metadata": {},
   "outputs": [
    {
     "name": "stdout",
     "output_type": "stream",
     "text": [
      "[23.36, 23.36, 23.36, 23.36, 23.36, 23.36, 23.36, 23.36, 23.36, 23.36, 23.36, 23.36, 23.36, 23.36, 23.36, 23.36, 23.36, 23.36, 23.36, 23.36, 23.36, 23.36, 23.36, 23.36, 23.36]\n"
     ]
    }
   ],
   "source": [
    "import numpy as np\n",
    "expected=np.full(25,exp_num).tolist()\n",
    "print expected"
   ]
  },
  {
   "cell_type": "markdown",
   "metadata": {},
   "source": [
    "*Для проверки соответствует ли наблюдаемое распределение сосен равномерному, воспользуемся критерием согласия Пирсона. (H0: рассматриваемая величина имеет равномерное распределение.)*"
   ]
  },
  {
   "cell_type": "code",
   "execution_count": 16,
   "metadata": {},
   "outputs": [
    {
     "data": {
      "text/plain": [
       "Power_divergenceResult(statistic=150.58904109589042, pvalue=2.574669774967279e-20)"
      ]
     },
     "execution_count": 16,
     "metadata": {},
     "output_type": "execute_result"
    }
   ],
   "source": [
    "stats.chisquare(observed, expected, ddof = 0)"
   ]
  },
  {
   "cell_type": "markdown",
   "metadata": {},
   "source": [
    "*Значение p-value мало и мы можем отвергнуть нулевую гипотезу и следовательно сосны распределены в заповеднике неравномерно.*"
   ]
  },
  {
   "cell_type": "markdown",
   "metadata": {},
   "source": [
    "*Посмотрим какие получились границы квадратов при применении stats.binned_statistic_2d и отобразим их и деревья на графике.*"
   ]
  },
  {
   "cell_type": "code",
   "execution_count": 64,
   "metadata": {},
   "outputs": [
    {
     "name": "stdout",
     "output_type": "stream",
     "text": [
      "[  0.  40.  80. 120. 160. 200.]\n",
      "[  0.  40.  80. 120. 160. 200.]\n"
     ]
    }
   ],
   "source": [
    "print(result.x_edge)\n",
    "print(result.y_edge)"
   ]
  },
  {
   "cell_type": "code",
   "execution_count": 66,
   "metadata": {},
   "outputs": [
    {
     "data": {
      "image/png": "[encoded data removed]",
      "text/plain": [
       "<Figure size 432x288 with 1 Axes>"
      ]
     },
     "metadata": {
      "needs_background": "light"
     },
     "output_type": "display_data"
    }
   ],
   "source": [
    "import matplotlib.pyplot as plt\n",
    "plt.scatter(data['sn'], data['we'], c='green')\n",
    "plt.xlabel(u'Север-Юг')\n",
    "plt.ylabel(u'Запад-Восток')\n",
    "\n",
    "plt.axvline(40, color='r')\n",
    "plt.axvline(80, color='r')\n",
    "plt.axvline(120, color='r')\n",
    "plt.axvline(160, color='r')\n",
    "plt.axhline(40, color='b')\n",
    "plt.axhline(80, color='b')\n",
    "plt.axhline(120, color='b')\n",
    "plt.axhline(160, color='b')\n",
    "\n",
    "plt.show()"
   ]
  }
 ],
 "metadata": {
  "kernelspec": {
   "display_name": "Python 2",
   "language": "python",
   "name": "python2"
  },
  "language_info": {
   "codemirror_mode": {
    "name": "ipython",
    "version": 2
   },
   "file_extension": ".py",
   "mimetype": "text/x-python",
   "name": "python",
   "nbconvert_exporter": "python",
   "pygments_lexer": "ipython2",
   "version": "2.7.15"
  }
 },
 "nbformat": 4,
 "nbformat_minor": 2
}
