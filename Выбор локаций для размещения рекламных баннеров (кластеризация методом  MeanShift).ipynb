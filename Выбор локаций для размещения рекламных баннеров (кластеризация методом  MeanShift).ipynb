{
 "cells": [
  {
   "cell_type": "markdown",
   "metadata": {},
   "source": [
    "Задание:\n",
    "\"Представим, что международное круизное агентство Carnival Cruise Line решило себя разрекламировать с помощью баннеров. Чтобы протестировать, велика ли от таких баннеров польза, их будет размещено всего 20 штук по всему миру. Надо выбрать 20 таких локаций для размещения, чтобы польза была большой.\n",
    "Агентство крупное, и у него есть несколько офисов по всему миру. Вблизи этих офисов оно и хочет разместить баннеры.Также эти места должны быть популярны среди туристов.\n",
    "Для поиска оптимальных мест воспользуемся базой данных крупнейшей социальной сети, основанной на локациях — Foursquare\"."
   ]
  },
  {
   "cell_type": "markdown",
   "metadata": {},
   "source": [
    "Часть открытых данных была скачана в формате dat, для дальнейшей работы преобразуем данные в формат csv."
   ]
  },
  {
   "cell_type": "code",
   "execution_count": 7,
   "metadata": {},
   "outputs": [],
   "source": [
    "import csv\n",
    "\n",
    "#конвертация файла из формата dat в csv с разделением по \"|\" и удалением строк с недостающими данными\n",
    "with open('checkins.dat') as datfile:\n",
    "    with open('checkins2.csv','w') as bannerfile:\n",
    "        csv_writer = csv.writer(bannerfile)\n",
    "        i=0\n",
    "        for line in datfile:\n",
    "            row = [field.strip() for field in line.split('|')]\n",
    "            if len(row) == 6 and row[3] and row[4]:\n",
    "                csv_writer.writerow(row)\n",
    "                i+=1"
   ]
  },
  {
   "cell_type": "markdown",
   "metadata": {},
   "source": [
    "Откроем преобразованный файл на чтение и отобразим первые 5 строк."
   ]
  },
  {
   "cell_type": "code",
   "execution_count": 8,
   "metadata": {},
   "outputs": [
    {
     "data": {
      "text/html": [
       "<div>\n",
       "<style scoped>\n",
       "    .dataframe tbody tr th:only-of-type {\n",
       "        vertical-align: middle;\n",
       "    }\n",
       "\n",
       "    .dataframe tbody tr th {\n",
       "        vertical-align: top;\n",
       "    }\n",
       "\n",
       "    .dataframe thead th {\n",
       "        text-align: right;\n",
       "    }\n",
       "</style>\n",
       "<table border=\"1\" class=\"dataframe\">\n",
       "  <thead>\n",
       "    <tr style=\"text-align: right;\">\n",
       "      <th></th>\n",
       "      <th>id</th>\n",
       "      <th>user_id</th>\n",
       "      <th>venue_id</th>\n",
       "      <th>latitude</th>\n",
       "      <th>longitude</th>\n",
       "      <th>created_at</th>\n",
       "    </tr>\n",
       "  </thead>\n",
       "  <tbody>\n",
       "    <tr>\n",
       "      <th>0</th>\n",
       "      <td>984222</td>\n",
       "      <td>15824</td>\n",
       "      <td>5222</td>\n",
       "      <td>38.895112</td>\n",
       "      <td>-77.036366</td>\n",
       "      <td>2012-04-21 17:43:47</td>\n",
       "    </tr>\n",
       "    <tr>\n",
       "      <th>1</th>\n",
       "      <td>984234</td>\n",
       "      <td>44652</td>\n",
       "      <td>5222</td>\n",
       "      <td>33.800745</td>\n",
       "      <td>-84.410520</td>\n",
       "      <td>2012-04-21 17:43:43</td>\n",
       "    </tr>\n",
       "    <tr>\n",
       "      <th>2</th>\n",
       "      <td>984291</td>\n",
       "      <td>105054</td>\n",
       "      <td>5222</td>\n",
       "      <td>45.523452</td>\n",
       "      <td>-122.676207</td>\n",
       "      <td>2012-04-21 17:39:22</td>\n",
       "    </tr>\n",
       "    <tr>\n",
       "      <th>3</th>\n",
       "      <td>984318</td>\n",
       "      <td>2146539</td>\n",
       "      <td>5222</td>\n",
       "      <td>40.764462</td>\n",
       "      <td>-111.904565</td>\n",
       "      <td>2012-04-21 17:35:46</td>\n",
       "    </tr>\n",
       "    <tr>\n",
       "      <th>4</th>\n",
       "      <td>984232</td>\n",
       "      <td>93870</td>\n",
       "      <td>380645</td>\n",
       "      <td>33.448377</td>\n",
       "      <td>-112.074037</td>\n",
       "      <td>2012-04-21 17:38:18</td>\n",
       "    </tr>\n",
       "  </tbody>\n",
       "</table>\n",
       "</div>"
      ],
      "text/plain": [
       "       id  user_id  venue_id   latitude   longitude           created_at\n",
       "0  984222    15824      5222  38.895112  -77.036366  2012-04-21 17:43:47\n",
       "1  984234    44652      5222  33.800745  -84.410520  2012-04-21 17:43:43\n",
       "2  984291   105054      5222  45.523452 -122.676207  2012-04-21 17:39:22\n",
       "3  984318  2146539      5222  40.764462 -111.904565  2012-04-21 17:35:46\n",
       "4  984232    93870    380645  33.448377 -112.074037  2012-04-21 17:38:18"
      ]
     },
     "execution_count": 8,
     "metadata": {},
     "output_type": "execute_result"
    }
   ],
   "source": [
    "import pandas as pd\n",
    "data=pd.read_csv('checkins2.csv', sep=',')\n",
    "data.head(5)"
   ]
  },
  {
   "cell_type": "markdown",
   "metadata": {},
   "source": [
    "Далее посмотрим на информацию о данных."
   ]
  },
  {
   "cell_type": "code",
   "execution_count": 9,
   "metadata": {},
   "outputs": [
    {
     "name": "stdout",
     "output_type": "stream",
     "text": [
      "<class 'pandas.core.frame.DataFrame'>\n",
      "RangeIndex: 396634 entries, 0 to 396633\n",
      "Data columns (total 6 columns):\n",
      "id            396634 non-null int64\n",
      "user_id       396634 non-null int64\n",
      "venue_id      396634 non-null int64\n",
      "latitude      396634 non-null float64\n",
      "longitude     396634 non-null float64\n",
      "created_at    396634 non-null object\n",
      "dtypes: float64(2), int64(3), object(1)\n",
      "memory usage: 18.2+ MB\n"
     ]
    }
   ],
   "source": [
    "data.info()"
   ]
  },
  {
   "cell_type": "markdown",
   "metadata": {},
   "source": [
    "Согласно информации выше, пропущенных данных в файле нет, но на всякий случай убедимся в этом."
   ]
  },
  {
   "cell_type": "code",
   "execution_count": 10,
   "metadata": {},
   "outputs": [
    {
     "data": {
      "text/plain": [
       "False"
      ]
     },
     "execution_count": 10,
     "metadata": {},
     "output_type": "execute_result"
    }
   ],
   "source": [
    "data.isnull().values.any()"
   ]
  },
  {
   "cell_type": "markdown",
   "metadata": {},
   "source": [
    "В целях упрощения обработки информации на данном компьютере, уменьшим количество строк данных до 100 000."
   ]
  },
  {
   "cell_type": "code",
   "execution_count": 11,
   "metadata": {},
   "outputs": [],
   "source": [
    "datacruise=data[:100000]"
   ]
  },
  {
   "cell_type": "markdown",
   "metadata": {},
   "source": [
    "Для выбора локаций, нас интересуют колонки с координатами (широта и долгота)."
   ]
  },
  {
   "cell_type": "code",
   "execution_count": 12,
   "metadata": {},
   "outputs": [
    {
     "data": {
      "text/html": [
       "<div>\n",
       "<style scoped>\n",
       "    .dataframe tbody tr th:only-of-type {\n",
       "        vertical-align: middle;\n",
       "    }\n",
       "\n",
       "    .dataframe tbody tr th {\n",
       "        vertical-align: top;\n",
       "    }\n",
       "\n",
       "    .dataframe thead th {\n",
       "        text-align: right;\n",
       "    }\n",
       "</style>\n",
       "<table border=\"1\" class=\"dataframe\">\n",
       "  <thead>\n",
       "    <tr style=\"text-align: right;\">\n",
       "      <th></th>\n",
       "      <th>latitude</th>\n",
       "      <th>longitude</th>\n",
       "    </tr>\n",
       "  </thead>\n",
       "  <tbody>\n",
       "    <tr>\n",
       "      <th>0</th>\n",
       "      <td>38.895112</td>\n",
       "      <td>-77.036366</td>\n",
       "    </tr>\n",
       "    <tr>\n",
       "      <th>1</th>\n",
       "      <td>33.800745</td>\n",
       "      <td>-84.410520</td>\n",
       "    </tr>\n",
       "    <tr>\n",
       "      <th>2</th>\n",
       "      <td>45.523452</td>\n",
       "      <td>-122.676207</td>\n",
       "    </tr>\n",
       "    <tr>\n",
       "      <th>3</th>\n",
       "      <td>40.764462</td>\n",
       "      <td>-111.904565</td>\n",
       "    </tr>\n",
       "    <tr>\n",
       "      <th>4</th>\n",
       "      <td>33.448377</td>\n",
       "      <td>-112.074037</td>\n",
       "    </tr>\n",
       "  </tbody>\n",
       "</table>\n",
       "</div>"
      ],
      "text/plain": [
       "    latitude   longitude\n",
       "0  38.895112  -77.036366\n",
       "1  33.800745  -84.410520\n",
       "2  45.523452 -122.676207\n",
       "3  40.764462 -111.904565\n",
       "4  33.448377 -112.074037"
      ]
     },
     "execution_count": 12,
     "metadata": {},
     "output_type": "execute_result"
    }
   ],
   "source": [
    "columns=['latitude','longitude']\n",
    "datacruise=datacruise[columns]\n",
    "datacruise.head(5)"
   ]
  },
  {
   "cell_type": "markdown",
   "metadata": {},
   "source": [
    "Чтобы выявить кластеры, воспользуемся алгоритмом MeanShift, указав ограничение для размера кластеров bandwidth=0.1 (примерно от 5 до 10 км)."
   ]
  },
  {
   "cell_type": "code",
   "execution_count": 13,
   "metadata": {},
   "outputs": [
    {
     "data": {
      "text/plain": [
       "MeanShift(bandwidth=0.1, bin_seeding=False, cluster_all=True, min_bin_freq=1,\n",
       "     n_jobs=1, seeds=None)"
      ]
     },
     "execution_count": 13,
     "metadata": {},
     "output_type": "execute_result"
    }
   ],
   "source": [
    "from sklearn.cluster import MeanShift\n",
    "ms=MeanShift(bandwidth=0.1)\n",
    "ms.fit(datacruise) #обучим алгоритм на выбранных данных"
   ]
  },
  {
   "cell_type": "markdown",
   "metadata": {},
   "source": [
    "Посмотрим сколько всего кластеров получилось, обозначим уникальные кластеры и их центры."
   ]
  },
  {
   "cell_type": "code",
   "execution_count": 20,
   "metadata": {},
   "outputs": [
    {
     "name": "stdout",
     "output_type": "stream",
     "text": [
      "Количество кластеров: 3230\n"
     ]
    }
   ],
   "source": [
    "import numpy as np\n",
    "labels = ms.labels_\n",
    "cluster_centers = ms.cluster_centers_\n",
    "labels_unique = np.unique(labels)\n",
    "n_clusters = len(labels_unique)\n",
    "print 'Количество кластеров: {}'.format(n_clusters)"
   ]
  },
  {
   "cell_type": "markdown",
   "metadata": {},
   "source": [
    "Посчитаем количество элементов в каждом кластере и преобразуем в словарь."
   ]
  },
  {
   "cell_type": "code",
   "execution_count": 26,
   "metadata": {},
   "outputs": [],
   "source": [
    "import collections\n",
    "c=collections.Counter(labels)\n",
    "labelnew=dict(c)"
   ]
  },
  {
   "cell_type": "markdown",
   "metadata": {},
   "source": [
    "Соединим в одну матрицу 4 столбца: номер кластера, количество элементов в нем, широта и долгота."
   ]
  },
  {
   "cell_type": "code",
   "execution_count": 27,
   "metadata": {},
   "outputs": [],
   "source": [
    "L=np.zeros((3230,4))\n",
    "i=0\n",
    "for line in cluster_centers:\n",
    "    a=labelnew[i]\n",
    "    L[i:]=(int(i),a,cluster_centers[i,0],cluster_centers[i,1])\n",
    "    i+=1"
   ]
  },
  {
   "cell_type": "markdown",
   "metadata": {},
   "source": [
    "Согласно пояснению: \"Некоторые из получившихся кластеров содержат слишком мало точек — такие кластеры не интересны рекламодателям. Поэтому надо определить, какие из кластеров содержат, скажем, больше 15 элементов. Центры этих кластеров и являются оптимальными для размещения.\"\n",
    "\n",
    "Оставим кластеры, в которых более 15-ти элементов. И посмотрим сколько таких кластеров."
   ]
  },
  {
   "cell_type": "code",
   "execution_count": 42,
   "metadata": {},
   "outputs": [],
   "source": [
    "K=np.zeros((sum(L[:,1]>15),4))\n",
    "i=0\n",
    "j=0\n",
    "for i in range(0,len(L)):\n",
    "    p=L[i,1]\n",
    "    if p>15:        \n",
    "        K[j:]=(L[i,0],L[i,1],L[i,2],L[i,3])\n",
    "        j+=1\n",
    "    i+=1    "
   ]
  },
  {
   "cell_type": "code",
   "execution_count": 43,
   "metadata": {},
   "outputs": [
    {
     "data": {
      "text/plain": [
       "593"
      ]
     },
     "execution_count": 43,
     "metadata": {},
     "output_type": "execute_result"
    }
   ],
   "source": [
    "len(K)"
   ]
  },
  {
   "cell_type": "markdown",
   "metadata": {},
   "source": [
    "Согласно дополнению: \"При желании увидеть получившиеся результаты на карте можно передать центры получившихся кластеров в один из инструментов визуализации. Например, сайт mapcustomizer.com имеет функцию Bulk Entry, куда можно вставить центры полученных кластеров\".\n",
    "\n",
    "Запишем в файл csv получившиеся центры кластеров.\n",
    "       "
   ]
  },
  {
   "cell_type": "code",
   "execution_count": 70,
   "metadata": {},
   "outputs": [],
   "source": [
    "i=0        \n",
    "with open('formap.csv','w') as mapp:\n",
    "    for i in range(0,len(K)):\n",
    "        line=','.join([str(K[i,2]),str(K[i,3])])\n",
    "        mapp.write(line+'\\n')\n",
    "        i+=1"
   ]
  },
  {
   "cell_type": "markdown",
   "metadata": {},
   "source": [
    "По условию 20 баннеров надо разместить близ офисов компании. Координаты офисов также даны.\n",
    "\n",
    "Посчитаем расстояния от данных офисов до каждого центра полученных кластеров."
   ]
  },
  {
   "cell_type": "code",
   "execution_count": 71,
   "metadata": {},
   "outputs": [],
   "source": [
    "import scipy\n",
    "\n",
    "i=0\n",
    "k=0\n",
    "\n",
    "Distance=np.zeros((len(K)*6,4))\n",
    "\n",
    "office1=np.array((33.751277,-118.188740)) # координаты офиса в Los Angeles\n",
    "office2=np.array((25.867736,-80.324116)) # координаты офиса в Miami\n",
    "office3=np.array((51.503016,-0.075479)) # координаты офиса в London\n",
    "office4=np.array((52.378894,4.885084)) # координаты офиса в Amsterdam\n",
    "office5=np.array((39.366487,117.036146)) # координаты офиса в Beijing\n",
    "office6=np.array((-33.868457,151.205134)) # координаты офиса в Sydney\n",
    "\n",
    "for i in range(0,len(K)):\n",
    "    \n",
    "    dist1=scipy.spatial.distance.euclidean(office1, K[i,2:4])\n",
    "    dist2=scipy.spatial.distance.euclidean(office2, K[i,2:4])\n",
    "    dist3=scipy.spatial.distance.euclidean(office3, K[i,2:4])\n",
    "    dist4=scipy.spatial.distance.euclidean(office4, K[i,2:4])\n",
    "    dist5=scipy.spatial.distance.euclidean(office5, K[i,2:4])\n",
    "    dist6=scipy.spatial.distance.euclidean(office6, K[i,2:4])\n",
    "    \n",
    "    Distance[k:]=(K[i,0],dist1,K[i,2],K[i,3])\n",
    "    k+=1\n",
    "    Distance[k:]=(K[i,0],dist2,K[i,2],K[i,3])\n",
    "    k+=1\n",
    "    Distance[k:]=(K[i,0],dist3,K[i,2],K[i,3])\n",
    "    k+=1\n",
    "    Distance[k:]=(K[i,0],dist4,K[i,2],K[i,3])\n",
    "    k+=1\n",
    "    Distance[k:]=(K[i,0],dist5,K[i,2],K[i,3])\n",
    "    k+=1\n",
    "    Distance[k:]=(K[i,0],dist6,K[i,2],K[i,3])\n",
    "    \n",
    "    k+=1\n",
    "    i+=1"
   ]
  },
  {
   "cell_type": "markdown",
   "metadata": {},
   "source": [
    "Отсортируем кластеры по удаленности от офисов. И первые 20 баннеров как раз и нужно будет разместить, согласно указанным координатам."
   ]
  },
  {
   "cell_type": "code",
   "execution_count": 73,
   "metadata": {},
   "outputs": [
    {
     "data": {
      "text/html": [
       "<div>\n",
       "<style scoped>\n",
       "    .dataframe tbody tr th:only-of-type {\n",
       "        vertical-align: middle;\n",
       "    }\n",
       "\n",
       "    .dataframe tbody tr th {\n",
       "        vertical-align: top;\n",
       "    }\n",
       "\n",
       "    .dataframe thead th {\n",
       "        text-align: right;\n",
       "    }\n",
       "</style>\n",
       "<table border=\"1\" class=\"dataframe\">\n",
       "  <thead>\n",
       "    <tr style=\"text-align: right;\">\n",
       "      <th></th>\n",
       "      <th>№ of cluster</th>\n",
       "      <th>Distance</th>\n",
       "      <th>Latitude</th>\n",
       "      <th>Longitude</th>\n",
       "    </tr>\n",
       "  </thead>\n",
       "  <tbody>\n",
       "    <tr>\n",
       "      <th>2465</th>\n",
       "      <td>413.0</td>\n",
       "      <td>0.007835</td>\n",
       "      <td>-33.860630</td>\n",
       "      <td>151.204776</td>\n",
       "    </tr>\n",
       "    <tr>\n",
       "      <th>2235</th>\n",
       "      <td>373.0</td>\n",
       "      <td>0.009353</td>\n",
       "      <td>52.372964</td>\n",
       "      <td>4.892317</td>\n",
       "    </tr>\n",
       "    <tr>\n",
       "      <th>2413</th>\n",
       "      <td>405.0</td>\n",
       "      <td>0.022674</td>\n",
       "      <td>25.845672</td>\n",
       "      <td>-80.318891</td>\n",
       "    </tr>\n",
       "    <tr>\n",
       "      <th>350</th>\n",
       "      <td>58.0</td>\n",
       "      <td>0.050058</td>\n",
       "      <td>51.502991</td>\n",
       "      <td>-0.125537</td>\n",
       "    </tr>\n",
       "    <tr>\n",
       "      <th>306</th>\n",
       "      <td>51.0</td>\n",
       "      <td>0.070848</td>\n",
       "      <td>33.809878</td>\n",
       "      <td>-118.148924</td>\n",
       "    </tr>\n",
       "    <tr>\n",
       "      <th>175</th>\n",
       "      <td>29.0</td>\n",
       "      <td>0.134109</td>\n",
       "      <td>25.785812</td>\n",
       "      <td>-80.217938</td>\n",
       "    </tr>\n",
       "    <tr>\n",
       "      <th>997</th>\n",
       "      <td>166.0</td>\n",
       "      <td>0.167406</td>\n",
       "      <td>25.705350</td>\n",
       "      <td>-80.283429</td>\n",
       "    </tr>\n",
       "    <tr>\n",
       "      <th>553</th>\n",
       "      <td>92.0</td>\n",
       "      <td>0.188876</td>\n",
       "      <td>26.010098</td>\n",
       "      <td>-80.199991</td>\n",
       "    </tr>\n",
       "    <tr>\n",
       "      <th>522</th>\n",
       "      <td>87.0</td>\n",
       "      <td>0.195779</td>\n",
       "      <td>33.888325</td>\n",
       "      <td>-118.048928</td>\n",
       "    </tr>\n",
       "    <tr>\n",
       "      <th>252</th>\n",
       "      <td>42.0</td>\n",
       "      <td>0.211811</td>\n",
       "      <td>33.872986</td>\n",
       "      <td>-118.362091</td>\n",
       "    </tr>\n",
       "    <tr>\n",
       "      <th>1710</th>\n",
       "      <td>285.0</td>\n",
       "      <td>0.222233</td>\n",
       "      <td>33.972575</td>\n",
       "      <td>-118.168371</td>\n",
       "    </tr>\n",
       "    <tr>\n",
       "      <th>1891</th>\n",
       "      <td>315.0</td>\n",
       "      <td>0.271301</td>\n",
       "      <td>26.138844</td>\n",
       "      <td>-80.334347</td>\n",
       "    </tr>\n",
       "    <tr>\n",
       "      <th>714</th>\n",
       "      <td>119.0</td>\n",
       "      <td>0.294979</td>\n",
       "      <td>33.983936</td>\n",
       "      <td>-118.007405</td>\n",
       "    </tr>\n",
       "    <tr>\n",
       "      <th>331</th>\n",
       "      <td>55.0</td>\n",
       "      <td>0.302270</td>\n",
       "      <td>26.120863</td>\n",
       "      <td>-80.158907</td>\n",
       "    </tr>\n",
       "    <tr>\n",
       "      <th>162</th>\n",
       "      <td>27.0</td>\n",
       "      <td>0.304731</td>\n",
       "      <td>33.817306</td>\n",
       "      <td>-117.891249</td>\n",
       "    </tr>\n",
       "    <tr>\n",
       "      <th>66</th>\n",
       "      <td>11.0</td>\n",
       "      <td>0.314884</td>\n",
       "      <td>34.060398</td>\n",
       "      <td>-118.248709</td>\n",
       "    </tr>\n",
       "    <tr>\n",
       "      <th>192</th>\n",
       "      <td>32.0</td>\n",
       "      <td>0.338810</td>\n",
       "      <td>33.674303</td>\n",
       "      <td>-117.858789</td>\n",
       "    </tr>\n",
       "    <tr>\n",
       "      <th>949</th>\n",
       "      <td>158.0</td>\n",
       "      <td>0.340846</td>\n",
       "      <td>26.200585</td>\n",
       "      <td>-80.250716</td>\n",
       "    </tr>\n",
       "    <tr>\n",
       "      <th>102</th>\n",
       "      <td>17.0</td>\n",
       "      <td>0.378688</td>\n",
       "      <td>34.035487</td>\n",
       "      <td>-118.438998</td>\n",
       "    </tr>\n",
       "    <tr>\n",
       "      <th>282</th>\n",
       "      <td>47.0</td>\n",
       "      <td>0.386706</td>\n",
       "      <td>34.131460</td>\n",
       "      <td>-118.118012</td>\n",
       "    </tr>\n",
       "  </tbody>\n",
       "</table>\n",
       "</div>"
      ],
      "text/plain": [
       "      № of cluster  Distance   Latitude   Longitude\n",
       "2465         413.0  0.007835 -33.860630  151.204776\n",
       "2235         373.0  0.009353  52.372964    4.892317\n",
       "2413         405.0  0.022674  25.845672  -80.318891\n",
       "350           58.0  0.050058  51.502991   -0.125537\n",
       "306           51.0  0.070848  33.809878 -118.148924\n",
       "175           29.0  0.134109  25.785812  -80.217938\n",
       "997          166.0  0.167406  25.705350  -80.283429\n",
       "553           92.0  0.188876  26.010098  -80.199991\n",
       "522           87.0  0.195779  33.888325 -118.048928\n",
       "252           42.0  0.211811  33.872986 -118.362091\n",
       "1710         285.0  0.222233  33.972575 -118.168371\n",
       "1891         315.0  0.271301  26.138844  -80.334347\n",
       "714          119.0  0.294979  33.983936 -118.007405\n",
       "331           55.0  0.302270  26.120863  -80.158907\n",
       "162           27.0  0.304731  33.817306 -117.891249\n",
       "66            11.0  0.314884  34.060398 -118.248709\n",
       "192           32.0  0.338810  33.674303 -117.858789\n",
       "949          158.0  0.340846  26.200585  -80.250716\n",
       "102           17.0  0.378688  34.035487 -118.438998\n",
       "282           47.0  0.386706  34.131460 -118.118012"
      ]
     },
     "execution_count": 73,
     "metadata": {},
     "output_type": "execute_result"
    }
   ],
   "source": [
    "Distance = pd.DataFrame(Distance)\n",
    "Distance = Distance.rename(columns={0:'№ of cluster', 1:'Distance', 2:'Latitude', 3:'Longitude'})\n",
    "Distance_sorted = Distance.sort_values('Distance')\n",
    "Distance_sorted.head(20)"
   ]
  }
 ],
 "metadata": {
  "celltoolbar": "Raw Cell Format",
  "kernelspec": {
   "display_name": "Python 2",
   "language": "python",
   "name": "python2"
  },
  "language_info": {
   "codemirror_mode": {
    "name": "ipython",
    "version": 2
   },
   "file_extension": ".py",
   "mimetype": "text/x-python",
   "name": "python",
   "nbconvert_exporter": "python",
   "pygments_lexer": "ipython2",
   "version": "2.7.15"
  }
 },
 "nbformat": 4,
 "nbformat_minor": 2
}
