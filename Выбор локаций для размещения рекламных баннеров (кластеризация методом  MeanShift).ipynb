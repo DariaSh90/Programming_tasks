{
 "cells": [
  {
   "cell_type": "code",
   "execution_count": 1,
   "metadata": {},
   "outputs": [],
   "source": [
    "# Импорт необходимых библиотек\n",
    "\n",
    "import csv\n",
    "import pandas as pd\n",
    "from sklearn.cluster import MeanShift\n",
    "import numpy as np\n",
    "import collections\n",
    "import scipy"
   ]
  },
  {
   "cell_type": "markdown",
   "metadata": {},
   "source": [
    "__Задание:__ Представим, что международное круизное агентство Carnival Cruise Line решило себя разрекламировать с помощью баннеров. Чтобы протестировать, велика ли от таких баннеров польза, их будет размещено всего 20 штук по всему миру. Надо выбрать 20 таких локаций для размещения, чтобы польза была большой.\n",
    "Агентство крупное, и у него есть несколько офисов по всему миру. Вблизи этих офисов оно и хочет разместить баннеры.Также эти места должны быть популярны среди туристов.\n",
    "Для поиска оптимальных мест воспользуемся базой данных крупнейшей социальной сети, основанной на локациях — Foursquare."
   ]
  },
  {
   "cell_type": "code",
   "execution_count": 2,
   "metadata": {},
   "outputs": [],
   "source": [
    "# Часть открытых данных была скачана в формате dat, для дальнейшей работы преобразуем данные\n",
    "# в формат csv с разделением по \"|\" и удалением строк с недостающими данными\n",
    "\n",
    "with open('checkins.dat') as datfile:\n",
    "    with open('checkins2.csv','w') as bannerfile:\n",
    "        csv_writer = csv.writer(bannerfile)\n",
    "        i=0\n",
    "        for line in datfile:\n",
    "            row = [field.strip() for field in line.split('|')]\n",
    "            if len(row) == 6 and row[3] and row[4]:\n",
    "                csv_writer.writerow(row)\n",
    "                i+=1"
   ]
  },
  {
   "cell_type": "code",
   "execution_count": 3,
   "metadata": {},
   "outputs": [
    {
     "data": {
      "text/html": [
       "<div>\n",
       "<style scoped>\n",
       "    .dataframe tbody tr th:only-of-type {\n",
       "        vertical-align: middle;\n",
       "    }\n",
       "\n",
       "    .dataframe tbody tr th {\n",
       "        vertical-align: top;\n",
       "    }\n",
       "\n",
       "    .dataframe thead th {\n",
       "        text-align: right;\n",
       "    }\n",
       "</style>\n",
       "<table border=\"1\" class=\"dataframe\">\n",
       "  <thead>\n",
       "    <tr style=\"text-align: right;\">\n",
       "      <th></th>\n",
       "      <th>id</th>\n",
       "      <th>user_id</th>\n",
       "      <th>venue_id</th>\n",
       "      <th>latitude</th>\n",
       "      <th>longitude</th>\n",
       "      <th>created_at</th>\n",
       "    </tr>\n",
       "  </thead>\n",
       "  <tbody>\n",
       "    <tr>\n",
       "      <th>0</th>\n",
       "      <td>984222</td>\n",
       "      <td>15824</td>\n",
       "      <td>5222</td>\n",
       "      <td>38.895112</td>\n",
       "      <td>-77.036366</td>\n",
       "      <td>2012-04-21 17:43:47</td>\n",
       "    </tr>\n",
       "    <tr>\n",
       "      <th>1</th>\n",
       "      <td>984234</td>\n",
       "      <td>44652</td>\n",
       "      <td>5222</td>\n",
       "      <td>33.800745</td>\n",
       "      <td>-84.410520</td>\n",
       "      <td>2012-04-21 17:43:43</td>\n",
       "    </tr>\n",
       "    <tr>\n",
       "      <th>2</th>\n",
       "      <td>984291</td>\n",
       "      <td>105054</td>\n",
       "      <td>5222</td>\n",
       "      <td>45.523452</td>\n",
       "      <td>-122.676207</td>\n",
       "      <td>2012-04-21 17:39:22</td>\n",
       "    </tr>\n",
       "    <tr>\n",
       "      <th>3</th>\n",
       "      <td>984318</td>\n",
       "      <td>2146539</td>\n",
       "      <td>5222</td>\n",
       "      <td>40.764462</td>\n",
       "      <td>-111.904565</td>\n",
       "      <td>2012-04-21 17:35:46</td>\n",
       "    </tr>\n",
       "    <tr>\n",
       "      <th>4</th>\n",
       "      <td>984232</td>\n",
       "      <td>93870</td>\n",
       "      <td>380645</td>\n",
       "      <td>33.448377</td>\n",
       "      <td>-112.074037</td>\n",
       "      <td>2012-04-21 17:38:18</td>\n",
       "    </tr>\n",
       "  </tbody>\n",
       "</table>\n",
       "</div>"
      ],
      "text/plain": [
       "       id  user_id  venue_id   latitude   longitude           created_at\n",
       "0  984222    15824      5222  38.895112  -77.036366  2012-04-21 17:43:47\n",
       "1  984234    44652      5222  33.800745  -84.410520  2012-04-21 17:43:43\n",
       "2  984291   105054      5222  45.523452 -122.676207  2012-04-21 17:39:22\n",
       "3  984318  2146539      5222  40.764462 -111.904565  2012-04-21 17:35:46\n",
       "4  984232    93870    380645  33.448377 -112.074037  2012-04-21 17:38:18"
      ]
     },
     "execution_count": 3,
     "metadata": {},
     "output_type": "execute_result"
    }
   ],
   "source": [
    "# Откроем преобразованный файл на чтение и отобразим первые 5 строк.\n",
    "data=pd.read_csv('checkins2.csv', sep=',')\n",
    "data.head()"
   ]
  },
  {
   "cell_type": "code",
   "execution_count": 4,
   "metadata": {},
   "outputs": [
    {
     "name": "stdout",
     "output_type": "stream",
     "text": [
      "<class 'pandas.core.frame.DataFrame'>\n",
      "RangeIndex: 396634 entries, 0 to 396633\n",
      "Data columns (total 6 columns):\n",
      "id            396634 non-null int64\n",
      "user_id       396634 non-null int64\n",
      "venue_id      396634 non-null int64\n",
      "latitude      396634 non-null float64\n",
      "longitude     396634 non-null float64\n",
      "created_at    396634 non-null object\n",
      "dtypes: float64(2), int64(3), object(1)\n",
      "memory usage: 39.3 MB\n"
     ]
    }
   ],
   "source": [
    "# Далее посмотрим на информацию о данных с уточнением об использовании памяти.\n",
    "data.info(memory_usage='deep')"
   ]
  },
  {
   "cell_type": "code",
   "execution_count": 5,
   "metadata": {},
   "outputs": [
    {
     "data": {
      "text/plain": [
       "False"
      ]
     },
     "execution_count": 5,
     "metadata": {},
     "output_type": "execute_result"
    }
   ],
   "source": [
    "# Согласно информации выше, пропущенных данных в файле нет, но на всякий случай убедимся в этом.\n",
    "data.isnull().values.any()"
   ]
  },
  {
   "cell_type": "code",
   "execution_count": 6,
   "metadata": {},
   "outputs": [
    {
     "name": "stdout",
     "output_type": "stream",
     "text": [
      "6.00 MB\n",
      "3.00 MB\n"
     ]
    },
    {
     "data": {
      "text/html": [
       "<div>\n",
       "<style scoped>\n",
       "    .dataframe tbody tr th:only-of-type {\n",
       "        vertical-align: middle;\n",
       "    }\n",
       "\n",
       "    .dataframe tbody tr th {\n",
       "        vertical-align: top;\n",
       "    }\n",
       "\n",
       "    .dataframe thead th {\n",
       "        text-align: right;\n",
       "    }\n",
       "</style>\n",
       "<table border=\"1\" class=\"dataframe\">\n",
       "  <thead>\n",
       "    <tr style=\"text-align: right;\">\n",
       "      <th></th>\n",
       "      <th>before</th>\n",
       "      <th>after</th>\n",
       "    </tr>\n",
       "  </thead>\n",
       "  <tbody>\n",
       "    <tr>\n",
       "      <th>float32</th>\n",
       "      <td>NaN</td>\n",
       "      <td>2.0</td>\n",
       "    </tr>\n",
       "    <tr>\n",
       "      <th>float64</th>\n",
       "      <td>2.0</td>\n",
       "      <td>NaN</td>\n",
       "    </tr>\n",
       "  </tbody>\n",
       "</table>\n",
       "</div>"
      ],
      "text/plain": [
       "         before  after\n",
       "float32     NaN    2.0\n",
       "float64     2.0    NaN"
      ]
     },
     "execution_count": 6,
     "metadata": {},
     "output_type": "execute_result"
    }
   ],
   "source": [
    "# Изменим формат данных для уменьшения необходимой памяти.\n",
    "\n",
    "def mem_usage(pandas_obj):\n",
    "    if isinstance(pandas_obj, pd.DataFrame):\n",
    "        usage_b = pandas_obj.memory_usage(deep=True).sum()\n",
    "    else: # we assume if not a df it's a series\n",
    "        usage_b = pandas_obj.memory_usage(deep=True)\n",
    "    usage_mb = usage_b/1024**2 # convert bytes to megabytes\n",
    "    return \"{:03.2f} MB\".format(usage_mb)\n",
    "\n",
    "data_float = data.select_dtypes(include=['float'])\n",
    "converted_float = data_float.apply(pd.to_numeric, downcast='float')\n",
    "\n",
    "print (mem_usage(data_float))\n",
    "print (mem_usage(converted_float))\n",
    "\n",
    "compare_floats = pd.concat([data_float.dtypes, converted_float.dtypes], axis=1)\n",
    "compare_floats.columns = ['before', 'after']\n",
    "compare_floats.apply(pd.Series.value_counts)"
   ]
  },
  {
   "cell_type": "code",
   "execution_count": 8,
   "metadata": {},
   "outputs": [],
   "source": [
    "# Для выбора локаций, нас интересуют колонки с координатами (широта и долгота).\n",
    "\n",
    "columns=['latitude','longitude']\n",
    "datacruise=converted_float[columns]"
   ]
  },
  {
   "cell_type": "code",
   "execution_count": 10,
   "metadata": {},
   "outputs": [
    {
     "data": {
      "text/plain": [
       "MeanShift(bandwidth=0.1, bin_seeding=False, cluster_all=True, min_bin_freq=1,\n",
       "     n_jobs=None, seeds=None)"
      ]
     },
     "execution_count": 10,
     "metadata": {},
     "output_type": "execute_result"
    }
   ],
   "source": [
    "# Чтобы выявить кластеры, воспользуемся алгоритмом MeanShift, указав ограничение \n",
    "# для размера кластеров bandwidth=0.1 (примерно от 5 до 10 км).\n",
    "\n",
    "ms = MeanShift(bandwidth = 0.1)\n",
    "ms.fit(datacruise) #обучим алгоритм на выбранных данных"
   ]
  },
  {
   "cell_type": "code",
   "execution_count": 11,
   "metadata": {},
   "outputs": [
    {
     "name": "stdout",
     "output_type": "stream",
     "text": [
      "Количество кластеров: 5536\n"
     ]
    }
   ],
   "source": [
    "# Посмотрим сколько всего кластеров получилось, обозначим уникальные кластеры и их центры.\n",
    "\n",
    "labels = ms.labels_\n",
    "cluster_centers = ms.cluster_centers_\n",
    "labels_unique = np.unique(labels)\n",
    "n_clusters = len(labels_unique)\n",
    "print 'Количество кластеров: {}'.format(n_clusters)"
   ]
  },
  {
   "cell_type": "code",
   "execution_count": 12,
   "metadata": {},
   "outputs": [],
   "source": [
    "# Посчитаем количество элементов в каждом кластере и преобразуем в словарь.\n",
    "\n",
    "c = collections.Counter(labels)\n",
    "labelnew = dict(c)\n",
    "\n",
    "# Соединим в одну матрицу 4 столбца: номер кластера, количество элементов в нем, широта и долгота.\n",
    "L = np.zeros((3230,4))\n",
    "i = 0\n",
    "for line in cluster_centers:\n",
    "    a = labelnew[i]\n",
    "    L[i:] = (int(i),a,cluster_centers[i,0],cluster_centers[i,1])\n",
    "    i+=1"
   ]
  },
  {
   "cell_type": "markdown",
   "metadata": {},
   "source": [
    "Согласно пояснению: \"Некоторые из получившихся кластеров содержат слишком мало точек — такие кластеры не интересны рекламодателям. Поэтому надо определить, какие из кластеров содержат, скажем, больше 15 элементов. Центры этих кластеров и являются оптимальными для размещения.\""
   ]
  },
  {
   "cell_type": "code",
   "execution_count": 13,
   "metadata": {},
   "outputs": [
    {
     "name": "stdout",
     "output_type": "stream",
     "text": [
      "1301\n"
     ]
    }
   ],
   "source": [
    "# Оставим кластеры, в которых более 15-ти элементов. И посмотрим сколько таких кластеров.\n",
    "\n",
    "K = np.zeros((sum(L[:,1]>15),4))\n",
    "j=0\n",
    "for i in range(0,len(L)):\n",
    "    p = L[i,1]\n",
    "    if p>15:        \n",
    "        K[j:] = (L[i,0],L[i,1],L[i,2],L[i,3])\n",
    "        j+=1\n",
    "    i+=1    \n",
    "    \n",
    "print len(K)"
   ]
  },
  {
   "cell_type": "markdown",
   "metadata": {},
   "source": [
    "Согласно дополнению: \"При желании увидеть получившиеся результаты на карте можно передать центры получившихся кластеров в один из инструментов визуализации. Например, сайт mapcustomizer.com имеет функцию Bulk Entry, куда можно вставить центры полученных кластеров\".       "
   ]
  },
  {
   "cell_type": "code",
   "execution_count": 14,
   "metadata": {},
   "outputs": [],
   "source": [
    "# Запишем в файл csv получившиеся центры кластеров.\n",
    "        \n",
    "with open('formap.csv','w') as mapp:\n",
    "    for i in range(0,len(K)):\n",
    "        line = ','.join([str(K[i,2]),str(K[i,3])])\n",
    "        mapp.write(line+'\\n')\n",
    "        i+=1"
   ]
  },
  {
   "cell_type": "code",
   "execution_count": 15,
   "metadata": {},
   "outputs": [],
   "source": [
    "# По условию 20 баннеров надо разместить близ офисов компании. Координаты офисов также даны.\n",
    "# Посчитаем расстояния от данных офисов до каждого центра полученных кластеров.\n",
    "\n",
    "# координаты офисов:\n",
    "\n",
    "offices = [[33.751277,-118.188740, 'Los Angeles'],\n",
    "          [25.867736,-80.324116, 'Miami'],\n",
    "          [51.503016,-0.075479, 'London'],\n",
    "          [52.378894,4.885084, 'Amsterdam'],\n",
    "          [39.366487,117.036146, 'Beijing'],\n",
    "          [-33.868457, 151.205134,'Sydney']]\n",
    "\n",
    "Distance = np.zeros((len(K)*6,4))\n",
    "k = 0\n",
    "for i in range(0,len(K)):\n",
    "    for j in range(0,len(offices)):\n",
    "        dist = scipy.spatial.distance.euclidean(offices[j][:2], K[i,2:4])\n",
    "        Distance[k:] = (K[i,0],dist,K[i,2],K[i,3])\n",
    "        j+=1\n",
    "        k+=1\n",
    "i+=1"
   ]
  },
  {
   "cell_type": "code",
   "execution_count": 16,
   "metadata": {},
   "outputs": [
    {
     "data": {
      "text/html": [
       "<div>\n",
       "<style scoped>\n",
       "    .dataframe tbody tr th:only-of-type {\n",
       "        vertical-align: middle;\n",
       "    }\n",
       "\n",
       "    .dataframe tbody tr th {\n",
       "        vertical-align: top;\n",
       "    }\n",
       "\n",
       "    .dataframe thead th {\n",
       "        text-align: right;\n",
       "    }\n",
       "</style>\n",
       "<table border=\"1\" class=\"dataframe\">\n",
       "  <thead>\n",
       "    <tr style=\"text-align: right;\">\n",
       "      <th></th>\n",
       "      <th>№ of cluster</th>\n",
       "      <th>Distance</th>\n",
       "      <th>Latitude</th>\n",
       "      <th>Longitude</th>\n",
       "    </tr>\n",
       "  </thead>\n",
       "  <tbody>\n",
       "    <tr>\n",
       "      <th>1511</th>\n",
       "      <td>251.0</td>\n",
       "      <td>0.003023</td>\n",
       "      <td>-33.866146</td>\n",
       "      <td>151.207082</td>\n",
       "    </tr>\n",
       "    <tr>\n",
       "      <th>1917</th>\n",
       "      <td>319.0</td>\n",
       "      <td>0.009625</td>\n",
       "      <td>52.372489</td>\n",
       "      <td>4.892268</td>\n",
       "    </tr>\n",
       "    <tr>\n",
       "      <th>1903</th>\n",
       "      <td>317.0</td>\n",
       "      <td>0.025084</td>\n",
       "      <td>25.846206</td>\n",
       "      <td>-80.311245</td>\n",
       "    </tr>\n",
       "    <tr>\n",
       "      <th>332</th>\n",
       "      <td>55.0</td>\n",
       "      <td>0.051634</td>\n",
       "      <td>51.503055</td>\n",
       "      <td>-0.127113</td>\n",
       "    </tr>\n",
       "    <tr>\n",
       "      <th>288</th>\n",
       "      <td>48.0</td>\n",
       "      <td>0.074644</td>\n",
       "      <td>33.811275</td>\n",
       "      <td>-118.144334</td>\n",
       "    </tr>\n",
       "    <tr>\n",
       "      <th>145</th>\n",
       "      <td>24.0</td>\n",
       "      <td>0.135583</td>\n",
       "      <td>25.787086</td>\n",
       "      <td>-80.215128</td>\n",
       "    </tr>\n",
       "    <tr>\n",
       "      <th>589</th>\n",
       "      <td>98.0</td>\n",
       "      <td>0.181390</td>\n",
       "      <td>26.005052</td>\n",
       "      <td>-80.205598</td>\n",
       "    </tr>\n",
       "    <tr>\n",
       "      <th>474</th>\n",
       "      <td>79.0</td>\n",
       "      <td>0.194084</td>\n",
       "      <td>33.898488</td>\n",
       "      <td>-118.062259</td>\n",
       "    </tr>\n",
       "    <tr>\n",
       "      <th>5090</th>\n",
       "      <td>849.0</td>\n",
       "      <td>0.233944</td>\n",
       "      <td>51.480366</td>\n",
       "      <td>-0.308323</td>\n",
       "    </tr>\n",
       "    <tr>\n",
       "      <th>5780</th>\n",
       "      <td>964.0</td>\n",
       "      <td>0.264100</td>\n",
       "      <td>51.598314</td>\n",
       "      <td>-0.321786</td>\n",
       "    </tr>\n",
       "    <tr>\n",
       "      <th>2767</th>\n",
       "      <td>461.0</td>\n",
       "      <td>0.271824</td>\n",
       "      <td>26.139268</td>\n",
       "      <td>-80.336708</td>\n",
       "    </tr>\n",
       "    <tr>\n",
       "      <th>216</th>\n",
       "      <td>36.0</td>\n",
       "      <td>0.282978</td>\n",
       "      <td>33.922035</td>\n",
       "      <td>-118.414390</td>\n",
       "    </tr>\n",
       "    <tr>\n",
       "      <th>307</th>\n",
       "      <td>51.0</td>\n",
       "      <td>0.292215</td>\n",
       "      <td>26.108543</td>\n",
       "      <td>-80.158582</td>\n",
       "    </tr>\n",
       "    <tr>\n",
       "      <th>186</th>\n",
       "      <td>31.0</td>\n",
       "      <td>0.302269</td>\n",
       "      <td>33.816965</td>\n",
       "      <td>-117.893695</td>\n",
       "    </tr>\n",
       "    <tr>\n",
       "      <th>66</th>\n",
       "      <td>11.0</td>\n",
       "      <td>0.322951</td>\n",
       "      <td>34.064978</td>\n",
       "      <td>-118.265478</td>\n",
       "    </tr>\n",
       "    <tr>\n",
       "      <th>192</th>\n",
       "      <td>32.0</td>\n",
       "      <td>0.342825</td>\n",
       "      <td>33.675235</td>\n",
       "      <td>-117.854455</td>\n",
       "    </tr>\n",
       "    <tr>\n",
       "      <th>955</th>\n",
       "      <td>159.0</td>\n",
       "      <td>0.344131</td>\n",
       "      <td>26.202449</td>\n",
       "      <td>-80.244158</td>\n",
       "    </tr>\n",
       "    <tr>\n",
       "      <th>396</th>\n",
       "      <td>66.0</td>\n",
       "      <td>0.358841</td>\n",
       "      <td>34.070046</td>\n",
       "      <td>-118.023957</td>\n",
       "    </tr>\n",
       "    <tr>\n",
       "      <th>5889</th>\n",
       "      <td>982.0</td>\n",
       "      <td>0.364414</td>\n",
       "      <td>52.081999</td>\n",
       "      <td>5.096392</td>\n",
       "    </tr>\n",
       "    <tr>\n",
       "      <th>582</th>\n",
       "      <td>97.0</td>\n",
       "      <td>0.372901</td>\n",
       "      <td>34.011356</td>\n",
       "      <td>-117.921505</td>\n",
       "    </tr>\n",
       "  </tbody>\n",
       "</table>\n",
       "</div>"
      ],
      "text/plain": [
       "      № of cluster  Distance   Latitude   Longitude\n",
       "1511         251.0  0.003023 -33.866146  151.207082\n",
       "1917         319.0  0.009625  52.372489    4.892268\n",
       "1903         317.0  0.025084  25.846206  -80.311245\n",
       "332           55.0  0.051634  51.503055   -0.127113\n",
       "288           48.0  0.074644  33.811275 -118.144334\n",
       "145           24.0  0.135583  25.787086  -80.215128\n",
       "589           98.0  0.181390  26.005052  -80.205598\n",
       "474           79.0  0.194084  33.898488 -118.062259\n",
       "5090         849.0  0.233944  51.480366   -0.308323\n",
       "5780         964.0  0.264100  51.598314   -0.321786\n",
       "2767         461.0  0.271824  26.139268  -80.336708\n",
       "216           36.0  0.282978  33.922035 -118.414390\n",
       "307           51.0  0.292215  26.108543  -80.158582\n",
       "186           31.0  0.302269  33.816965 -117.893695\n",
       "66            11.0  0.322951  34.064978 -118.265478\n",
       "192           32.0  0.342825  33.675235 -117.854455\n",
       "955          159.0  0.344131  26.202449  -80.244158\n",
       "396           66.0  0.358841  34.070046 -118.023957\n",
       "5889         982.0  0.364414  52.081999    5.096392\n",
       "582           97.0  0.372901  34.011356 -117.921505"
      ]
     },
     "execution_count": 16,
     "metadata": {},
     "output_type": "execute_result"
    }
   ],
   "source": [
    "# Отсортируем кластеры по удаленности от офисов. И первые 20 баннеров как раз и нужно будет разместить, \n",
    "# согласно указанным координатам.\n",
    "\n",
    "Distance = pd.DataFrame(Distance)\n",
    "Distance_sorted = Distance.rename(columns={0:'№ of cluster', 1:'Distance', 2:'Latitude', 3:'Longitude'}).sort_values('Distance')\n",
    "Distance_sorted.head(20)"
   ]
  }
 ],
 "metadata": {
  "celltoolbar": "Raw Cell Format",
  "kernelspec": {
   "display_name": "Python 2",
   "language": "python",
   "name": "python2"
  },
  "language_info": {
   "codemirror_mode": {
    "name": "ipython",
    "version": 2
   },
   "file_extension": ".py",
   "mimetype": "text/x-python",
   "name": "python",
   "nbconvert_exporter": "python",
   "pygments_lexer": "ipython2",
   "version": "2.7.15"
  }
 },
 "nbformat": 4,
 "nbformat_minor": 2
}
