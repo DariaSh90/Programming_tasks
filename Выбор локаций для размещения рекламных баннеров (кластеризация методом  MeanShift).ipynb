	
cells	
0	
cell_type	"code"
execution_count	1
metadata	{}
outputs	[]
source	
0	"# Импорт необходимых библиотек\n"
1	"\n"
2	"import csv\n"
3	"import pandas as pd\n"
4	"from sklearn.cluster import MeanShift\n"
5	"import numpy as np\n"
6	"import collections\n"
7	"import scipy"
1	
cell_type	"markdown"
metadata	{}
source	
0	"__Задание:__ Представим, что международное круизное агентство Carnival Cruise Line решило себя разрекламировать с помощью баннеров. Чтобы протестировать, велика ли от таких баннеров польза, их будет размещено всего 20 штук по всему миру. Надо выбрать 20 таких локаций для размещения, чтобы польза была большой.\n"
1	"Агентство крупное, и у него есть несколько офисов по всему миру. Вблизи этих офисов оно и хочет разместить баннеры.Также эти места должны быть популярны среди туристов.\n"
2	"Для поиска оптимальных мест воспользуемся базой данных крупнейшей социальной сети, основанной на локациях — Foursquare."
2	
cell_type	"code"
execution_count	2
metadata	{}
outputs	[]
source	
0	"# Часть открытых данных была скачана в формате dat, для дальнейшей работы преобразуем данные\n"
1	"# в формат csv с разделением по \"|\" и удалением строк с недостающими данными\n"
2	"\n"
3	"with open('checkins.dat') as datfile:\n"
4	"    with open('checkins2.csv','w') as bannerfile:\n"
5	"        csv_writer = csv.writer(bannerfile)\n"
6	"        i=0\n"
7	"        for line in datfile:\n"
8	"            row = [field.strip() for field in line.split('|')]\n"
9	"            if len(row) == 6 and row[3] and row[4]:\n"
10	"                csv_writer.writerow(row)\n"
11	"                i+=1"
3	
cell_type	"code"
execution_count	3
metadata	{}
outputs	
0	
data	
text/html	
0	"<div>\n"
1	"<style scoped>\n"
2	"    .dataframe tbody tr th:only-of-type {\n"
3	"        vertical-align: middle;\n"
4	"    }\n"
5	"\n"
6	"    .dataframe tbody tr th {\n"
7	"        vertical-align: top;\n"
8	"    }\n"
9	"\n"
10	"    .dataframe thead th {\n"
11	"        text-align: right;\n"
12	"    }\n"
13	"</style>\n"
14	"<table border=\"1\" class=\"dataframe\">\n"
15	"  <thead>\n"
16	"    <tr style=\"text-align: right;\">\n"
17	"      <th></th>\n"
18	"      <th>id</th>\n"
19	"      <th>user_id</th>\n"
20	"      <th>venue_id</th>\n"
21	"      <th>latitude</th>\n"
22	"      <th>longitude</th>\n"
23	"      <th>created_at</th>\n"
24	"    </tr>\n"
25	"  </thead>\n"
26	"  <tbody>\n"
27	"    <tr>\n"
28	"      <th>0</th>\n"
29	"      <td>984222</td>\n"
30	"      <td>15824</td>\n"
31	"      <td>5222</td>\n"
32	"      <td>38.895112</td>\n"
33	"      <td>-77.036366</td>\n"
34	"      <td>2012-04-21 17:43:47</td>\n"
35	"    </tr>\n"
36	"    <tr>\n"
37	"      <th>1</th>\n"
38	"      <td>984234</td>\n"
39	"      <td>44652</td>\n"
40	"      <td>5222</td>\n"
41	"      <td>33.800745</td>\n"
42	"      <td>-84.410520</td>\n"
43	"      <td>2012-04-21 17:43:43</td>\n"
44	"    </tr>\n"
45	"    <tr>\n"
46	"      <th>2</th>\n"
47	"      <td>984291</td>\n"
48	"      <td>105054</td>\n"
49	"      <td>5222</td>\n"
50	"      <td>45.523452</td>\n"
51	"      <td>-122.676207</td>\n"
52	"      <td>2012-04-21 17:39:22</td>\n"
53	"    </tr>\n"
54	"    <tr>\n"
55	"      <th>3</th>\n"
56	"      <td>984318</td>\n"
57	"      <td>2146539</td>\n"
58	"      <td>5222</td>\n"
59	"      <td>40.764462</td>\n"
60	"      <td>-111.904565</td>\n"
61	"      <td>2012-04-21 17:35:46</td>\n"
62	"    </tr>\n"
63	"    <tr>\n"
64	"      <th>4</th>\n"
65	"      <td>984232</td>\n"
66	"      <td>93870</td>\n"
67	"      <td>380645</td>\n"
68	"      <td>33.448377</td>\n"
69	"      <td>-112.074037</td>\n"
70	"      <td>2012-04-21 17:38:18</td>\n"
71	"    </tr>\n"
72	"  </tbody>\n"
73	"</table>\n"
74	"</div>"
text/plain	
0	"       id  user_id  venue_id   latitude   longitude           created_at\n"
1	"0  984222    15824      5222  38.895112  -77.036366  2012-04-21 17:43:47\n"
2	"1  984234    44652      5222  33.800745  -84.410520  2012-04-21 17:43:43\n"
3	"2  984291   105054      5222  45.523452 -122.676207  2012-04-21 17:39:22\n"
4	"3  984318  2146539      5222  40.764462 -111.904565  2012-04-21 17:35:46\n"
5	"4  984232    93870    380645  33.448377 -112.074037  2012-04-21 17:38:18"
execution_count	3
metadata	{}
output_type	"execute_result"
source	
0	"# Откроем преобразованный файл на чтение и отобразим первые 5 строк.\n"
1	"data=pd.read_csv('checkins2.csv', sep=',')\n"
2	"data.head()"
4	
cell_type	"code"
execution_count	4
metadata	{}
outputs	
0	
name	"stdout"
output_type	"stream"
text	
0	"<class 'pandas.core.frame.DataFrame'>\n"
1	"RangeIndex: 396634 entries, 0 to 396633\n"
2	"Data columns (total 6 columns):\n"
3	"id            396634 non-null int64\n"
4	"user_id       396634 non-null int64\n"
5	"venue_id      396634 non-null int64\n"
6	"latitude      396634 non-null float64\n"
7	"longitude     396634 non-null float64\n"
8	"created_at    396634 non-null object\n"
9	"dtypes: float64(2), int64(3), object(1)\n"
10	"memory usage: 39.3 MB\n"
source	
0	"# Далее посмотрим на информацию о данных с уточнением об использовании памяти.\n"
1	"data.info(memory_usage='deep')"
5	
cell_type	"code"
execution_count	5
metadata	{}
outputs	
0	
data	
text/plain	
0	"False"
execution_count	5
metadata	{}
output_type	"execute_result"
source	
0	"# Согласно информации выше, пропущенных данных в файле нет, но на всякий случай убедимся в этом.\n"
1	"data.isnull().values.any()"
6	
cell_type	"code"
execution_count	6
metadata	{}
outputs	
0	
name	"stdout"
output_type	"stream"
text	
0	"6.00 MB\n"
1	"3.00 MB\n"
1	
data	
text/html	
0	"<div>\n"
1	"<style scoped>\n"
2	"    .dataframe tbody tr th:only-of-type {\n"
3	"        vertical-align: middle;\n"
4	"    }\n"
5	"\n"
6	"    .dataframe tbody tr th {\n"
7	"        vertical-align: top;\n"
8	"    }\n"
9	"\n"
10	"    .dataframe thead th {\n"
11	"        text-align: right;\n"
12	"    }\n"
13	"</style>\n"
14	"<table border=\"1\" class=\"dataframe\">\n"
15	"  <thead>\n"
16	"    <tr style=\"text-align: right;\">\n"
17	"      <th></th>\n"
18	"      <th>before</th>\n"
19	"      <th>after</th>\n"
20	"    </tr>\n"
21	"  </thead>\n"
22	"  <tbody>\n"
23	"    <tr>\n"
24	"      <th>float32</th>\n"
25	"      <td>NaN</td>\n"
26	"      <td>2.0</td>\n"
27	"    </tr>\n"
28	"    <tr>\n"
29	"      <th>float64</th>\n"
30	"      <td>2.0</td>\n"
31	"      <td>NaN</td>\n"
32	"    </tr>\n"
33	"  </tbody>\n"
34	"</table>\n"
35	"</div>"
text/plain	
0	"         before  after\n"
1	"float32     NaN    2.0\n"
2	"float64     2.0    NaN"
execution_count	6
metadata	{}
output_type	"execute_result"
source	
0	"# Изменим формат данных для уменьшения необходимой памяти.\n"
1	"\n"
2	"def mem_usage(pandas_obj):\n"
3	"    if isinstance(pandas_obj, pd.DataFrame):\n"
4	"        usage_b = pandas_obj.memory_usage(deep=True).sum()\n"
5	"    else: # we assume if not a df it's a series\n"
6	"        usage_b = pandas_obj.memory_usage(deep=True)\n"
7	"    usage_mb = usage_b/1024**2 # convert bytes to megabytes\n"
8	"    return \"{:03.2f} MB\".format(usage_mb)\n"
9	"\n"
10	"data_float = data.select_dtypes(include=['float'])\n"
11	"converted_float = data_float.apply(pd.to_numeric, downcast='float')\n"
12	"\n"
13	"print (mem_usage(data_float))\n"
14	"print (mem_usage(converted_float))\n"
15	"\n"
16	"compare_floats = pd.concat([data_float.dtypes, converted_float.dtypes], axis=1)\n"
17	"compare_floats.columns = ['before', 'after']\n"
18	"compare_floats.apply(pd.Series.value_counts)"
7	
cell_type	"code"
execution_count	8
metadata	{}
outputs	[]
source	
0	"# Для выбора локаций, нас интересуют колонки с координатами (широта и долгота).\n"
1	"\n"
2	"columns=['latitude','longitude']\n"
3	"datacruise=converted_float[columns]"
8	
cell_type	"code"
execution_count	10
metadata	{}
outputs	
0	
data	
text/plain	
0	"MeanShift(bandwidth=0.1, bin_seeding=False, cluster_all=True, min_bin_freq=1,\n"
1	"     n_jobs=None, seeds=None)"
execution_count	10
metadata	{}
output_type	"execute_result"
source	
0	"# Чтобы выявить кластеры, воспользуемся алгоритмом MeanShift, указав ограничение \n"
1	"# для размера кластеров bandwidth=0.1 (примерно от 5 до 10 км).\n"
2	"\n"
3	"ms = MeanShift(bandwidth = 0.1)\n"
4	"ms.fit(datacruise) #обучим алгоритм на выбранных данных"
9	
cell_type	"code"
execution_count	11
metadata	{}
outputs	
0	
name	"stdout"
output_type	"stream"
text	
0	"Количество кластеров: 5536\n"
source	
0	"# Посмотрим сколько всего кластеров получилось, обозначим уникальные кластеры и их центры.\n"
1	"\n"
2	"labels = ms.labels_\n"
3	"cluster_centers = ms.cluster_centers_\n"
4	"labels_unique = np.unique(labels)\n"
5	"n_clusters = len(labels_unique)\n"
6	"print 'Количество кластеров: {}'.format(n_clusters)"
10	
cell_type	"code"
execution_count	12
metadata	{}
outputs	[]
source	
0	"# Посчитаем количество элементов в каждом кластере и преобразуем в словарь.\n"
1	"\n"
2	"c = collections.Counter(labels)\n"
3	"labelnew = dict(c)\n"
4	"\n"
5	"# Соединим в одну матрицу 4 столбца: номер кластера, количество элементов в нем, широта и долгота.\n"
6	"L = np.zeros((3230,4))\n"
7	"i = 0\n"
8	"for line in cluster_centers:\n"
9	"    a = labelnew[i]\n"
10	"    L[i:] = (int(i),a,cluster_centers[i,0],cluster_centers[i,1])\n"
11	"    i+=1"
11	
cell_type	"markdown"
metadata	{}
source	
0	"Согласно пояснению: \"Некоторые из получившихся кластеров содержат слишком мало точек — такие кластеры не интересны рекламодателям. Поэтому надо определить, какие из кластеров содержат, скажем, больше 15 элементов. Центры этих кластеров и являются оптимальными для размещения.\""
12	
cell_type	"code"
execution_count	13
metadata	{}
outputs	
0	
name	"stdout"
output_type	"stream"
text	
0	"1301\n"
source	
0	"# Оставим кластеры, в которых более 15-ти элементов. И посмотрим сколько таких кластеров.\n"
1	"\n"
2	"K = np.zeros((sum(L[:,1]>15),4))\n"
3	"j=0\n"
4	"for i in range(0,len(L)):\n"
5	"    p = L[i,1]\n"
6	"    if p>15:        \n"
7	"        K[j:] = (L[i,0],L[i,1],L[i,2],L[i,3])\n"
8	"        j+=1\n"
9	"    i+=1    \n"
10	"    \n"
11	"print len(K)"
13	
cell_type	"markdown"
metadata	{}
source	
0	"Согласно дополнению: \"При желании увидеть получившиеся результаты на карте можно передать центры получившихся кластеров в один из инструментов визуализации. Например, сайт mapcustomizer.com имеет функцию Bulk Entry, куда можно вставить центры полученных кластеров\".       "
14	
cell_type	"code"
execution_count	14
metadata	{}
outputs	[]
source	
0	"# Запишем в файл csv получившиеся центры кластеров.\n"
1	"        \n"
2	"with open('formap.csv','w') as mapp:\n"
3	"    for i in range(0,len(K)):\n"
4	"        line = ','.join([str(K[i,2]),str(K[i,3])])\n"
5	"        mapp.write(line+'\\n')\n"
6	"        i+=1"
15	
cell_type	"code"
execution_count	15
metadata	{}
outputs	[]
source	
0	"# По условию 20 баннеров надо разместить близ офисов компании. Координаты офисов также даны.\n"
1	"# Посчитаем расстояния от данных офисов до каждого центра полученных кластеров.\n"
2	"\n"
3	"# координаты офисов:\n"
4	"\n"
5	"offices = [[33.751277,-118.188740, 'Los Angeles'],\n"
6	"          [25.867736,-80.324116, 'Miami'],\n"
7	"          [51.503016,-0.075479, 'London'],\n"
8	"          [52.378894,4.885084, 'Amsterdam'],\n"
9	"          [39.366487,117.036146, 'Beijing'],\n"
10	"          [-33.868457, 151.205134,'Sydney']]\n"
11	"\n"
12	"Distance = np.zeros((len(K)*6,4))\n"
13	"k = 0\n"
14	"for i in range(0,len(K)):\n"
15	"    for j in range(0,len(offices)):\n"
16	"        dist = scipy.spatial.distance.euclidean(offices[j][:2], K[i,2:4])\n"
17	"        Distance[k:] = (K[i,0],dist,K[i,2],K[i,3])\n"
18	"        j+=1\n"
19	"        k+=1\n"
20	"i+=1"
16	
cell_type	"code"
execution_count	16
metadata	{}
outputs	
0	
data	
text/html	
0	"<div>\n"
1	"<style scoped>\n"
2	"    .dataframe tbody tr th:only-of-type {\n"
3	"        vertical-align: middle;\n"
4	"    }\n"
5	"\n"
6	"    .dataframe tbody tr th {\n"
7	"        vertical-align: top;\n"
8	"    }\n"
9	"\n"
10	"    .dataframe thead th {\n"
11	"        text-align: right;\n"
12	"    }\n"
13	"</style>\n"
14	"<table border=\"1\" class=\"dataframe\">\n"
15	"  <thead>\n"
16	"    <tr style=\"text-align: right;\">\n"
17	"      <th></th>\n"
18	"      <th>№ of cluster</th>\n"
19	"      <th>Distance</th>\n"
20	"      <th>Latitude</th>\n"
21	"      <th>Longitude</th>\n"
22	"    </tr>\n"
23	"  </thead>\n"
24	"  <tbody>\n"
25	"    <tr>\n"
26	"      <th>1511</th>\n"
27	"      <td>251.0</td>\n"
28	"      <td>0.003023</td>\n"
29	"      <td>-33.866146</td>\n"
30	"      <td>151.207082</td>\n"
31	"    </tr>\n"
32	"    <tr>\n"
33	"      <th>1917</th>\n"
34	"      <td>319.0</td>\n"
35	"      <td>0.009625</td>\n"
36	"      <td>52.372489</td>\n"
37	"      <td>4.892268</td>\n"
38	"    </tr>\n"
39	"    <tr>\n"
40	"      <th>1903</th>\n"
41	"      <td>317.0</td>\n"
42	"      <td>0.025084</td>\n"
43	"      <td>25.846206</td>\n"
44	"      <td>-80.311245</td>\n"
45	"    </tr>\n"
46	"    <tr>\n"
47	"      <th>332</th>\n"
48	"      <td>55.0</td>\n"
49	"      <td>0.051634</td>\n"
50	"      <td>51.503055</td>\n"
51	"      <td>-0.127113</td>\n"
52	"    </tr>\n"
53	"    <tr>\n"
54	"      <th>288</th>\n"
55	"      <td>48.0</td>\n"
56	"      <td>0.074644</td>\n"
57	"      <td>33.811275</td>\n"
58	"      <td>-118.144334</td>\n"
59	"    </tr>\n"
60	"    <tr>\n"
61	"      <th>145</th>\n"
62	"      <td>24.0</td>\n"
63	"      <td>0.135583</td>\n"
64	"      <td>25.787086</td>\n"
65	"      <td>-80.215128</td>\n"
66	"    </tr>\n"
67	"    <tr>\n"
68	"      <th>589</th>\n"
69	"      <td>98.0</td>\n"
70	"      <td>0.181390</td>\n"
71	"      <td>26.005052</td>\n"
72	"      <td>-80.205598</td>\n"
73	"    </tr>\n"
74	"    <tr>\n"
75	"      <th>474</th>\n"
76	"      <td>79.0</td>\n"
77	"      <td>0.194084</td>\n"
78	"      <td>33.898488</td>\n"
79	"      <td>-118.062259</td>\n"
80	"    </tr>\n"
81	"    <tr>\n"
82	"      <th>5090</th>\n"
83	"      <td>849.0</td>\n"
84	"      <td>0.233944</td>\n"
85	"      <td>51.480366</td>\n"
86	"      <td>-0.308323</td>\n"
87	"    </tr>\n"
88	"    <tr>\n"
89	"      <th>5780</th>\n"
90	"      <td>964.0</td>\n"
91	"      <td>0.264100</td>\n"
92	"      <td>51.598314</td>\n"
93	"      <td>-0.321786</td>\n"
94	"    </tr>\n"
95	"    <tr>\n"
96	"      <th>2767</th>\n"
97	"      <td>461.0</td>\n"
98	"      <td>0.271824</td>\n"
99	"      <td>26.139268</td>\n"
100	"      <td>-80.336708</td>\n"
101	"    </tr>\n"
102	"    <tr>\n"
103	"      <th>216</th>\n"
104	"      <td>36.0</td>\n"
105	"      <td>0.282978</td>\n"
106	"      <td>33.922035</td>\n"
107	"      <td>-118.414390</td>\n"
108	"    </tr>\n"
109	"    <tr>\n"
110	"      <th>307</th>\n"
111	"      <td>51.0</td>\n"
112	"      <td>0.292215</td>\n"
113	"      <td>26.108543</td>\n"
114	"      <td>-80.158582</td>\n"
115	"    </tr>\n"
116	"    <tr>\n"
117	"      <th>186</th>\n"
118	"      <td>31.0</td>\n"
119	"      <td>0.302269</td>\n"
120	"      <td>33.816965</td>\n"
121	"      <td>-117.893695</td>\n"
122	"    </tr>\n"
123	"    <tr>\n"
124	"      <th>66</th>\n"
125	"      <td>11.0</td>\n"
126	"      <td>0.322951</td>\n"
127	"      <td>34.064978</td>\n"
128	"      <td>-118.265478</td>\n"
129	"    </tr>\n"
130	"    <tr>\n"
131	"      <th>192</th>\n"
132	"      <td>32.0</td>\n"
133	"      <td>0.342825</td>\n"
134	"      <td>33.675235</td>\n"
135	"      <td>-117.854455</td>\n"
136	"    </tr>\n"
137	"    <tr>\n"
138	"      <th>955</th>\n"
139	"      <td>159.0</td>\n"
140	"      <td>0.344131</td>\n"
141	"      <td>26.202449</td>\n"
142	"      <td>-80.244158</td>\n"
143	"    </tr>\n"
144	"    <tr>\n"
145	"      <th>396</th>\n"
146	"      <td>66.0</td>\n"
147	"      <td>0.358841</td>\n"
148	"      <td>34.070046</td>\n"
149	"      <td>-118.023957</td>\n"
150	"    </tr>\n"
151	"    <tr>\n"
152	"      <th>5889</th>\n"
153	"      <td>982.0</td>\n"
154	"      <td>0.364414</td>\n"
155	"      <td>52.081999</td>\n"
156	"      <td>5.096392</td>\n"
157	"    </tr>\n"
158	"    <tr>\n"
159	"      <th>582</th>\n"
160	"      <td>97.0</td>\n"
161	"      <td>0.372901</td>\n"
162	"      <td>34.011356</td>\n"
163	"      <td>-117.921505</td>\n"
164	"    </tr>\n"
165	"  </tbody>\n"
166	"</table>\n"
167	"</div>"
text/plain	
0	"      № of cluster  Distance   Latitude   Longitude\n"
1	"1511         251.0  0.003023 -33.866146  151.207082\n"
2	"1917         319.0  0.009625  52.372489    4.892268\n"
3	"1903         317.0  0.025084  25.846206  -80.311245\n"
4	"332           55.0  0.051634  51.503055   -0.127113\n"
5	"288           48.0  0.074644  33.811275 -118.144334\n"
6	"145           24.0  0.135583  25.787086  -80.215128\n"
7	"589           98.0  0.181390  26.005052  -80.205598\n"
8	"474           79.0  0.194084  33.898488 -118.062259\n"
9	"5090         849.0  0.233944  51.480366   -0.308323\n"
10	"5780         964.0  0.264100  51.598314   -0.321786\n"
11	"2767         461.0  0.271824  26.139268  -80.336708\n"
12	"216           36.0  0.282978  33.922035 -118.414390\n"
13	"307           51.0  0.292215  26.108543  -80.158582\n"
14	"186           31.0  0.302269  33.816965 -117.893695\n"
15	"66            11.0  0.322951  34.064978 -118.265478\n"
16	"192           32.0  0.342825  33.675235 -117.854455\n"
17	"955          159.0  0.344131  26.202449  -80.244158\n"
18	"396           66.0  0.358841  34.070046 -118.023957\n"
19	"5889         982.0  0.364414  52.081999    5.096392\n"
20	"582           97.0  0.372901  34.011356 -117.921505"
execution_count	16
metadata	{}
output_type	"execute_result"
source	
0	"# Отсортируем кластеры по удаленности от офисов. И первые 20 баннеров как раз и нужно будет разместить, \n"
1	"# согласно указанным координатам.\n"
2	"\n"
3	"Distance = pd.DataFrame(Distance)\n"
4	"Distance_sorted = Distance.rename(columns={0:'№ of cluster', 1:'Distance', 2:'Latitude', 3:'Longitude'}).sort_values('Distance')\n"
5	"Distance_sorted.head(20)"
metadata	
celltoolbar	"Raw Cell Format"
kernelspec	
display_name	"Python 2"
language	"python"
name	"python2"
language_info	
codemirror_mode	
name	"ipython"
version	2
file_extension	".py"
mimetype	"text/x-python"
name	"python"
nbconvert_exporter	"python"
pygments_lexer	"ipython2"
version	"2.7.15"
nbformat	4
nbformat_minor	2
